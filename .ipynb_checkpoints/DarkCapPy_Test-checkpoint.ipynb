{
 "cells": [
  {
   "cell_type": "markdown",
   "metadata": {},
   "source": [
    "# DarkCapPy Test\n",
    "\n",
    "Author: Adam Green\n",
    "\n",
    "Email : agree019@ucr.edu"
   ]
  },
  {
   "cell_type": "markdown",
   "metadata": {},
   "source": [
    "This notebook is intended to be run after installing to ensure that `DarkCapPy` is running as it should be. "
   ]
  },
  {
   "cell_type": "code",
   "execution_count": 1,
   "metadata": {
    "ExecuteTime": {
     "end_time": "2018-06-26T20:24:13.707326Z",
     "start_time": "2018-06-26T20:24:04.081526Z"
    }
   },
   "outputs": [
    {
     "name": "stdout",
     "output_type": "stream",
     "text": [
      "Dark Photon Module Imported\n",
      "Complete\n"
     ]
    }
   ],
   "source": [
    "from DarkMatterCapture import *\n",
    "\n",
    "mx = 1000\n",
    "ma = 0.05\n",
    "epsilon = 1e-8\n",
    "alpha = 1/137\n",
    "alphax = 0.035\n",
    "tauCross = DarkPhoton.tauCross\n",
    "\n",
    "\n",
    "print ('Complete')"
   ]
  },
  {
   "cell_type": "code",
   "execution_count": 4,
   "metadata": {
    "ExecuteTime": {
     "end_time": "2018-06-26T20:31:04.330677Z",
     "start_time": "2018-06-26T20:28:35.418816Z"
    }
   },
   "outputs": [
    {
     "name": "stdout",
     "output_type": "stream",
     "text": [
      "Complete\n"
     ]
    }
   ],
   "source": [
    "cap1 = DarkPhoton.photonCCap(mx,ma,epsilon,alpha,alphax)\n",
    "kappa0 = DarkPhoton.photonKappa_0(mx,alpha)\n",
    "cap2 = DarkPhoton.photonCCapQuick(mx,ma,epsilon,alphax,kappa0)\n",
    "\n",
    "\n",
    "som = DarkPhoton.thermAvgSommerfeld(mx,ma,alphax)\n",
    "sigma = DarkPhoton.photonSigmaVtree(mx,ma,alphax)\n",
    "ann = DarkPhoton.CAnnCalc(mx,sigma,som)\n",
    "\n",
    "tau = DarkPhoton.tau(cap1,ann)\n",
    "\n",
    "gamma = DarkPhoton.gammaAnn(cap1,ann)\n",
    "L = DarkPhoton.decayLength(mx,ma,epsilon,1)\n",
    "Edecay = DarkPhoton.epsilonDecay(L)\n",
    "\n",
    "signal = DarkPhoton.iceCubeSignal(gamma,Edecay,DarkPhoton.yr2s(10))\n",
    "\n",
    "\n",
    "print ('Complete')"
   ]
  },
  {
   "cell_type": "code",
   "execution_count": 5,
   "metadata": {
    "ExecuteTime": {
     "end_time": "2018-06-26T20:31:11.569010Z",
     "start_time": "2018-06-26T20:31:11.557046Z"
    }
   },
   "outputs": [
    {
     "name": "stdout",
     "output_type": "stream",
     "text": [
      "Cap1:  17393015583359.414\n",
      "Cap2:  17613272559662.65\n",
      "Contour:  0.02737054836006153\n",
      "Signal :  26998236.68491888\n"
     ]
    }
   ],
   "source": [
    "print ('Cap1: ',cap1)\n",
    "print ('Cap2: ',cap2)\n",
    "\n",
    "print ('Contour: ', tau/tauCross)\n",
    "print ('Signal : ', signal)"
   ]
  },
  {
   "cell_type": "code",
   "execution_count": null,
   "metadata": {
    "collapsed": true
   },
   "outputs": [],
   "source": []
  }
 ],
 "metadata": {
  "kernelspec": {
   "display_name": "Python 3",
   "language": "python",
   "name": "python3"
  },
  "language_info": {
   "codemirror_mode": {
    "name": "ipython",
    "version": 3
   },
   "file_extension": ".py",
   "mimetype": "text/x-python",
   "name": "python",
   "nbconvert_exporter": "python",
   "pygments_lexer": "ipython3",
   "version": "3.6.2"
  },
  "latex_envs": {
   "LaTeX_envs_menu_present": true,
   "autocomplete": false,
   "bibliofile": "biblio.bib",
   "cite_by": "apalike",
   "current_citInitial": 1,
   "eqLabelWithNumbers": true,
   "eqNumInitial": 1,
   "hotkeys": {
    "equation": "Ctrl-E",
    "itemize": "Ctrl-I"
   },
   "labels_anchors": false,
   "latex_user_defs": false,
   "report_style_numbering": false,
   "user_envs_cfg": false
  }
 },
 "nbformat": 4,
 "nbformat_minor": 2
}
