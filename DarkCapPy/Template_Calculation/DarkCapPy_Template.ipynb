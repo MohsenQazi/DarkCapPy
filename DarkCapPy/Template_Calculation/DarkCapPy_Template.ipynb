{
 "cells": [
  {
   "cell_type": "markdown",
   "metadata": {},
   "source": [
    "# DarkCapPy Template\n",
    "\n",
    "Author: Adam Green\n",
    "\n",
    "Email : agree019@ucr.edu\n",
    "\n",
    "Date: 8/6/18"
   ]
  },
  {
   "cell_type": "markdown",
   "metadata": {
    "heading_collapsed": true
   },
   "source": [
    "## Introduction"
   ]
  },
  {
   "cell_type": "markdown",
   "metadata": {
    "hidden": true
   },
   "source": [
    "It is fairly straightforward to use this package to perform \"out-of-the-box\" calculations. However, some calculations, in particular the reach plot for IceCube, may take hours of run time. This means that if the reach plot caluclations are interrupted for whatever reason, they must be started anew. To circumvent this problem, we have written this notebook as a guide for someone who doesn't want to spend the time developing a clever way to use this package.\n",
    "\n",
    "The main computational idea for this notebook is, instead of computing and storing everything in Jupyter memory, which is erased once the kernel closes, save calculations everything to external comma-separated-value (CSV) files and load them in as needed. This is adventageous for two reasons as opposed to keeping everything in Jupyter memory. First, it saves time by allowing the user to access already completed data without generating it from sratch. Secondly, it allows longer computations to be written to external files incrementally, which means they can be stopped and resumed later without losing any data. \n",
    "\n",
    "This notebook has three main sections titled Sommerfeld, Equilibrium Plots, and IceCube Signal. We provide a brief overview of each section below."
   ]
  },
  {
   "cell_type": "markdown",
   "metadata": {
    "hidden": true
   },
   "source": [
    "#### Sommerfeld"
   ]
  },
  {
   "cell_type": "markdown",
   "metadata": {
    "hidden": true
   },
   "source": [
    "In section, the user will create and populate an external CSV file which stores the value of $m_X$, $m_{A'}$, $\\langle S_S \\rangle(m_{A'})$ and $\\kappa_0$. This is where the user will define the value of $m_X$ for the rest of the calcultion. $m_{A'}$ is a list of arbitrary mediator mass values which will be used to generate corresponding values of the thermally averaged Sommerfeld effect, $\\langle S_S \\rangle$. $\\kappa_0$ is the part of the capture rate that depends only on $m_X$ and $\\alpha$, so when $m_X$ is fixed, $\\kappa_0$ is uniquely determined. \n",
    "\n",
    "The CSV file generated from this section will be read into all later parts of this notebook."
   ]
  },
  {
   "cell_type": "markdown",
   "metadata": {
    "hidden": true
   },
   "source": [
    "#### Equilibrium Plots"
   ]
  },
  {
   "cell_type": "markdown",
   "metadata": {
    "hidden": true
   },
   "source": [
    "This section reads in a completed sommerfeld CSV and generates plots of the equilibrium time in $(\\varepsilon, m_{A'})$ space. By default, we plot contour values of $\\tau/\\tau_\\oplus = \\{ 10^{-4} ,10^{-2}, 10^0, 10^2, 10^4 \\}$."
   ]
  },
  {
   "cell_type": "markdown",
   "metadata": {
    "hidden": true
   },
   "source": [
    "#### IceCube Signal"
   ]
  },
  {
   "cell_type": "markdown",
   "metadata": {
    "hidden": true
   },
   "source": [
    "This section is the most time consuming and computation intensive section. \n",
    "\n",
    "This section reads in\n",
    "1. a completed Sommerfeld csv\n",
    "2. a csv containing the branching ratio for a given process\n",
    "\n",
    "and outputs a plot of the signal rate at IceCube."
   ]
  },
  {
   "cell_type": "markdown",
   "metadata": {},
   "source": [
    "## Imports and Initialization"
   ]
  },
  {
   "cell_type": "markdown",
   "metadata": {},
   "source": [
    "In this cell, we import all the libraries we need and define the paths to each data file. "
   ]
  },
  {
   "cell_type": "code",
   "execution_count": 2,
   "metadata": {
    "ExecuteTime": {
     "end_time": "2018-08-06T19:12:32.022144Z",
     "start_time": "2018-08-06T19:12:09.885872Z"
    }
   },
   "outputs": [
    {
     "name": "stdout",
     "output_type": "stream",
     "text": [
      "Dark Photon Module Imported\n",
      "Complete\n"
     ]
    }
   ],
   "source": [
    "import numpy as np\n",
    "import pandas as pd\n",
    "from scipy.interpolate import interpolate\n",
    "import matplotlib as mpl\n",
    "import matplotlib.pyplot as plt\n",
    "import matplotlib.style\n",
    "mpl.rcParams.update(mpl.rcParamsDefault)\n",
    "%matplotlib inline\n",
    "from datetime import datetime\n",
    "\n",
    "from DarkCapPy import *\n",
    "import DarkCapPy.DarkPhoton as DP\n",
    "\n",
    "###################\n",
    "# Define File Paths\n",
    "###################\n",
    "# These paths are specific to the preset folders in Temp;ate_Caluclation\n",
    "def sommerfeldPath(file):\n",
    "    path = 'Sommerfeld/' + file\n",
    "    return path\n",
    "\n",
    "def branchPath(file):\n",
    "    path = 'Branching_Ratio/' + file\n",
    "    return path\n",
    "\n",
    "def signalPath(file):\n",
    "    path = 'Signal/' + file\n",
    "    return path\n",
    "    \n",
    "def signalBackupPath(file):\n",
    "    path = 'Signal/Signal_Backups/' + file\n",
    "    return path\n",
    "\n",
    "print ('Complete')"
   ]
  },
  {
   "cell_type": "markdown",
   "metadata": {
    "heading_collapsed": true
   },
   "source": [
    "## Package Test"
   ]
  },
  {
   "cell_type": "markdown",
   "metadata": {
    "hidden": true
   },
   "source": [
    "This section serves only to ensure that the package was sucessfully installed. We load `DarkCapPy` as `DP` and perform all the subsequent calculations for a single point in $(m_{A'}, \\varepsilon)$ parameter space at IceCube. This cell should take about 6 minutes to run.\n",
    "\n",
    "Input parameters:\n",
    "\n",
    "    mx       = 1000\n",
    "    ma       = 1\n",
    "    epsilon  = 1e-8\n",
    "    alpha    = 1/137\n",
    "    alphax   = 0.035\n",
    "    tauCross = DP.tauCross\n",
    "\n",
    "The output is:\n",
    "\n",
    "    Capture_1            : 110079473.7575132\n",
    "    Kappa_0              : 3.1452272427969017e+25\n",
    "    Capture_2            : 110082953.49789158\n",
    "    Therm Avg Sommerfeld : 238.71863691039448\n",
    "    Sigma V              : 3.8484490764205524e-09\n",
    "    Annihilation         : 1.8311290915841913e-46\n",
    "    EQ Time              : 7.04348098392085e+18\n",
    "    Gamma_ann            : 22336.873085842682\n",
    "    Decay Length         : 87324480.0\n",
    "    Epsilon_decay        : 5.100088114082073e-07\n",
    "    N_signal             : 0.012594031678514129"
   ]
  },
  {
   "cell_type": "code",
   "execution_count": 15,
   "metadata": {
    "ExecuteTime": {
     "end_time": "2018-08-06T16:12:15.653169Z",
     "start_time": "2018-08-06T16:06:13.361081Z"
    },
    "hidden": true
   },
   "outputs": [
    {
     "name": "stdout",
     "output_type": "stream",
     "text": [
      "Capture_1            : 110079473.7575132\n",
      "Kappa_0              : 3.1452272427969017e+25\n",
      "Capture_2            : 110082953.49789158\n",
      "Therm Avg Sommerfeld : 238.71863691039448\n",
      "Sigma V              : 3.8484490764205524e-09\n",
      "Annihilation         : 1.8311290915841913e-46\n",
      "EQ Time              : 7.04348098392085e+18\n",
      "Gamma_ann            : 22336.873085842682\n",
      "Decay Length         : 87324480.0\n",
      "Epsilon_decay        : 5.100088114082073e-07\n",
      "N_signal             : 0.012594031678514129\n"
     ]
    }
   ],
   "source": [
    "mx = 1000\n",
    "ma = 1\n",
    "epsilon = 1e-8\n",
    "alpha = 1/137\n",
    "alphax = 0.035\n",
    "tauCross = DP.tauCross\n",
    "\n",
    "cap1 = DP.cCap(mx,ma,epsilon,alpha,alphax)\n",
    "kappa0 = DP.kappa_0(mx,alpha)\n",
    "cap2 = DP.cCapQuick(mx,ma,epsilon,alphax,kappa0)\n",
    "\n",
    "\n",
    "sommerfeld = DP.thermAvgSommerfeld(mx,ma,alphax)\n",
    "sigma = DP.sigmaVtree(mx,ma,alphax)\n",
    "ann = DP.cAnn(mx,sigma,sommerfeld)\n",
    "\n",
    "tau = DP.tau(cap1,ann)\n",
    "\n",
    "gammaAnn = DP.gammaAnn(cap1,ann)\n",
    "L = DP.decayLength(mx,ma,epsilon,1)\n",
    "Edecay = DP.epsilonDecay(L)\n",
    "\n",
    "signal = DP.iceCubeSignal(gammaAnn,Edecay,DP.yr2s(10))\n",
    "\n",
    "\n",
    "print ('Capture_1            :', cap1)\n",
    "print ('Kappa_0              :', kappa0)\n",
    "print ('Capture_2            :', cap2)\n",
    "print ('Therm Avg Sommerfeld :', sommerfeld)\n",
    "print ('Sigma V              :', sigma)\n",
    "print ('Annihilation         :', ann)\n",
    "print ('EQ Time              :', tau)\n",
    "print ('Gamma_ann            :', gammaAnn)\n",
    "print ('Decay Length         :', L)\n",
    "print ('Epsilon_decay        :', Edecay)\n",
    "print ('N_signal             :', signal)"
   ]
  },
  {
   "cell_type": "markdown",
   "metadata": {
    "collapsed": true,
    "heading_collapsed": true
   },
   "source": [
    "# Sommerfeld"
   ]
  },
  {
   "cell_type": "markdown",
   "metadata": {
    "hidden": true
   },
   "source": [
    "This section serves to create an external file which contains an arbitrary number of $m_A$ and $\\langle S_s \\rangle$ points to be interpolated later.\n",
    "\n",
    "The external file has the following column headers:\n",
    "\n",
    "    Counter, mX[GeV], mA[GeV], ThermAvgSommerfeld, Kappa0[GeV5]\n",
    "\n",
    "- Counter serves as an index to loop through\n",
    "- `m_X` is specified by the user shortly after the file is created \n",
    "- `m_A` is a list of numbers ranging from $0.01$ GeV to $10$ GeV with arbitrary density. Since these will each correspond to a single values of $\\langle S_s \\rangle$ to be interpolated later, we suggest using logarithmic spacing with a high density `Num ~ 2500`.\n",
    "- `ThermAvgSommerfeld` is the corresponding $\\langle S_s \\rangle(m_A)$ point\n",
    "- `Kappa0[GeV5]`\n",
    "\n"
   ]
  },
  {
   "cell_type": "markdown",
   "metadata": {
    "ExecuteTime": {
     "end_time": "2018-04-03T16:12:05.967601Z",
     "start_time": "2018-04-03T16:12:05.961053Z"
    },
    "hidden": true
   },
   "source": [
    "## Define Point Resolution"
   ]
  },
  {
   "cell_type": "markdown",
   "metadata": {
    "hidden": true
   },
   "source": [
    "This cell defines the resolution of the Sommerfeld enhancement. This number should be ~2500 because it will be used to create an interpolation later in generating the signal plot at IceCube."
   ]
  },
  {
   "cell_type": "code",
   "execution_count": 25,
   "metadata": {
    "ExecuteTime": {
     "end_time": "2018-08-06T16:35:00.918286Z",
     "start_time": "2018-08-06T16:35:00.912358Z"
    },
    "collapsed": true,
    "hidden": true
   },
   "outputs": [],
   "source": [
    "num = 2500"
   ]
  },
  {
   "cell_type": "markdown",
   "metadata": {
    "hidden": true
   },
   "source": [
    "## Initialize Paramter Arrays"
   ]
  },
  {
   "cell_type": "markdown",
   "metadata": {
    "hidden": true
   },
   "source": [
    "We assume the following range for $m_{A'}$:\n",
    "\n",
    "$$ 0.01 \\ \\text{GeV} \\leq m_{A'} \\leq 10 \\ \\text{GeV} $$\n",
    "\n",
    "This will use this range for the mediator mass for the rest of the calculations. "
   ]
  },
  {
   "cell_type": "code",
   "execution_count": 26,
   "metadata": {
    "ExecuteTime": {
     "end_time": "2018-08-06T16:35:02.153023Z",
     "start_time": "2018-08-06T16:35:02.134073Z"
    },
    "hidden": true
   },
   "outputs": [
    {
     "name": "stdout",
     "output_type": "stream",
     "text": [
      "Complete\n"
     ]
    }
   ],
   "source": [
    "mALogRange = np.logspace(-2, 1, num, base = 10)\n",
    "mAArray = []\n",
    "\n",
    "counter = 0\n",
    "for mATemp in mALogRange:\n",
    "                 #( Counter, m_X[GeV], m_A[Gev], ThermAvgSommerfeld, Kappa0[GeV5])\n",
    "    mAArray.append([counter, ' '     , mATemp  , 'None'            , ' '])\n",
    "    counter += 1\n",
    "\n",
    "print ('Complete')"
   ]
  },
  {
   "cell_type": "markdown",
   "metadata": {
    "hidden": true
   },
   "source": [
    "## Create and write the DataFrame to an external  CSV"
   ]
  },
  {
   "cell_type": "markdown",
   "metadata": {
    "hidden": true
   },
   "source": [
    "Filenames should follow the convention:\n",
    "\n",
    "    <#><Unit>Sommerfeld.csv\n",
    "\n",
    "including the \".csv\" extension at the prompt.\n",
    "\n",
    "For example, if $m_X = 100$ GeV, a good filename would be something like:\n",
    "\n",
    "    100GeVSommerfeld.csv\n",
    "   "
   ]
  },
  {
   "cell_type": "code",
   "execution_count": 29,
   "metadata": {
    "ExecuteTime": {
     "end_time": "2018-08-06T16:35:33.054307Z",
     "start_time": "2018-08-06T16:35:30.040708Z"
    },
    "hidden": true
   },
   "outputs": [
    {
     "name": "stdout",
     "output_type": "stream",
     "text": [
      "Sommerfeld Filename: \n",
      "Setting Default Filename\n",
      "m_X [GeV]: 1\n",
      "Complete\n"
     ]
    }
   ],
   "source": [
    "masterSommerfeldDataFrame = \\\n",
    "    pd.DataFrame(mAArray,\\\n",
    "                 columns = \\\n",
    "                 ['Counter','mX[GeV]', 'mA[GeV]', 'ThermAvgSommerfeld', 'Kappa0[GeV5]'])\n",
    "\n",
    "sommFileName = input('Sommerfeld Filename: ')\n",
    "if (sommFileName == ''):\n",
    "    print ('Setting Default Filename')\n",
    "    sommFileName = 'Sommerfeld_DEFAULT.csv'\n",
    "writeFile = sommerfeldPath(sommFileName)\n",
    "\n",
    "assert (sommFileName[-4:] == '.csv'), 'File must end with \".csv\"'\n",
    "\n",
    "\n",
    "masterSommerfeldDataFrame.to_csv(writeFile, index=False)\n",
    "dataFrame = pd.read_csv(writeFile , sep = ',')\n",
    "m_XValue = float(input('m_X [GeV]: '))\n",
    "kappa0Value = 'None'\n",
    "\n",
    "\n",
    "dataFrame.at[0, 'mX[GeV]'] = m_XValue\n",
    "dataFrame.at[0, 'Kappa0[GeV5]'] = kappa0Value\n",
    "\n",
    "dataFrame.to_csv(writeFile, index=False)\n",
    "\n",
    "\n",
    "print ('Complete')"
   ]
  },
  {
   "cell_type": "markdown",
   "metadata": {
    "hidden": true
   },
   "source": [
    "## Populating Sommerfeld.csv"
   ]
  },
  {
   "cell_type": "markdown",
   "metadata": {
    "hidden": true
   },
   "source": [
    "In this cell, we:\n",
    "\n",
    "1. Calculate `Kappa0[GeV5]`\n",
    "\n",
    "2. Calculate the Sommerfeld enhancement $\\langle S_s \\rangle$ for each corresponding value of $m_A$\n",
    "\n",
    "After each value of `thermAvgSommerfeld` is calculated, the CSV is updated and overwritten. There is a manual overwrite in the next cell just for good measure."
   ]
  },
  {
   "cell_type": "code",
   "execution_count": 35,
   "metadata": {
    "ExecuteTime": {
     "end_time": "2018-08-03T15:56:37.249729Z",
     "start_time": "2018-08-03T15:56:34.647074Z"
    },
    "hidden": true,
    "scrolled": true
   },
   "outputs": [
    {
     "name": "stdout",
     "output_type": "stream",
     "text": [
      "Sommerfeld Filename: testSomm.csv\n",
      "Kappa0 value already calculated\n",
      "-------------------\n",
      "Starting Sommerfeld Calculations...\n",
      "-------------------\n",
      "All Calculations Complete\n",
      "Complete\n"
     ]
    }
   ],
   "source": [
    "sommFileName = input('Sommerfeld Filename: ')\n",
    "sommWriteFile = sommerfeldPath(sommFileName)\n",
    "sommDataIn = pd.read_csv(sommWriteFile,sep = ',')\n",
    "\n",
    "# Define the loop range\n",
    "looprange = len(sommDataIn['Counter'])\n",
    "\n",
    "# Read in m_X value\n",
    "Filem_X = float(sommDataIn.at[0,'mX[GeV]'])\n",
    "    \n",
    "##################################\n",
    "# Calculate Kappa0\n",
    "##################################\n",
    "testKappa0 = sommDataIn.at[0,'Kappa0[GeV5]']\n",
    "\n",
    "if (testKappa0 == 'None'):\n",
    "    print ('Calculating Kappa0...')\n",
    "    \n",
    "    kappa0Value = float(DP.kappa_0(Filem_X, 1./137))\n",
    "    \n",
    "    sommDataIn.at[0, 'Kappa0[GeV5]'] = kappa0Value\n",
    "    sommDataIn.to_csv(sommWriteFile, index=False)\n",
    "    print('Kappa0 value calculated and set')\n",
    "    \n",
    "elif (testKappa0 != 'None'):\n",
    "    print ('Kappa0 value already calculated')\n",
    "\n",
    "\n",
    "##################################\n",
    "# Calculate the Sommerfeld enhancements\n",
    "##################################\n",
    "\n",
    "finishedCounter = 0\n",
    "print ('-------------------')\n",
    "print ('Starting Sommerfeld Calculations...')\n",
    "for index in range(0,looprange):\n",
    "    ##################################\n",
    "    # Initialize Parameters\n",
    "    ##################################\n",
    "    m_AValue = sommDataIn.at[index,'mA[GeV]']\n",
    "    testSomm = sommDataIn.at[index,'ThermAvgSommerfeld']\n",
    "    \n",
    "    if (testSomm == 'None'):    \n",
    "        alpha_X = DP.alphaTherm(Filem_X, m_AValue)\n",
    "        thermAvgSomm = DP.thermAvgSommerfeld(Filem_X, m_AValue, alpha_X)\n",
    "\n",
    "        sommDataIn.at[index,'ThermAvgSommerfeld'] = thermAvgSomm\n",
    "        \n",
    "        finishedCounter +=1\n",
    "        if (index%20 == 0):\n",
    "            print ('Index: {0} recorded'.format(index))\n",
    "        \n",
    "    elif(testSomm != 'None'):\n",
    "        finishedCounter +=1\n",
    "        \n",
    "    if (finishedCounter == looprange):\n",
    "        print ('-------------------')\n",
    "        print ('All Calculations Complete')\n",
    "        \n",
    "    \n",
    "sommDataIn.to_csv(sommWriteFile, index=False)\n",
    "print ('Complete')"
   ]
  },
  {
   "cell_type": "markdown",
   "metadata": {
    "heading_collapsed": true,
    "hidden": true
   },
   "source": [
    "### Manual Overwrite"
   ]
  },
  {
   "cell_type": "markdown",
   "metadata": {
    "hidden": true
   },
   "source": [
    "If you interrupt the previous cell, you MUST run this cell. Occassionally, if the interruption occurs during the `to_csv` command, the external CSV will be blank. However, the dataframe is still stored in Jupyter memory. This cell ensures that the dataframe in Jupyter memory gets written to the CSV file."
   ]
  },
  {
   "cell_type": "code",
   "execution_count": 6,
   "metadata": {
    "ExecuteTime": {
     "end_time": "2018-08-03T15:35:42.539868Z",
     "start_time": "2018-08-03T15:35:40.412675Z"
    },
    "hidden": true
   },
   "outputs": [
    {
     "name": "stdout",
     "output_type": "stream",
     "text": [
      "Working Sommerfeld file: Sommerfeld/testSomm.csv\n",
      "Overwrite? (y/n): y\n",
      "Overwrite complete\n",
      "Complete\n"
     ]
    }
   ],
   "source": [
    "print ('Working Sommerfeld file: {0}'.format(sommWriteFile))\n",
    "\n",
    "overwrite = input('Overwrite? (y/n): ')\n",
    "if ((overwrite == 'y') or (overwrite == 'Y')):\n",
    "    sommDataIn.to_csv(sommWriteFile, index=False)\n",
    "    print ('Overwrite complete')\n",
    "    \n",
    "else:\n",
    "    print ('Overwrite aborted')\n",
    "\n",
    "\n",
    "print ('Complete')"
   ]
  },
  {
   "cell_type": "markdown",
   "metadata": {
    "heading_collapsed": true,
    "hidden": true
   },
   "source": [
    "## Plot Sommerfeld Data"
   ]
  },
  {
   "cell_type": "markdown",
   "metadata": {
    "hidden": true
   },
   "source": [
    "This cell:\n",
    "\n",
    "1. Reads in a completed Sommerfeld CSV\n",
    "\n",
    "2. Extracts the `mA` and `ThermAvgSommerfeld` columns from the specified file\n",
    "\n",
    "3. Plots `ThermAvgSommerfeld` vs. `mA`\n",
    "\n",
    "If the Sommerfeld file isn't fully populated, ie: the calculations aren't finished, Python will throw an error."
   ]
  },
  {
   "cell_type": "code",
   "execution_count": 42,
   "metadata": {
    "ExecuteTime": {
     "end_time": "2018-08-06T17:01:06.050599Z",
     "start_time": "2018-08-06T17:01:05.210091Z"
    },
    "hidden": true
   },
   "outputs": [
    {
     "name": "stdout",
     "output_type": "stream",
     "text": [
      "Sommerfeld File: 3\n"
     ]
    },
    {
     "ename": "FileNotFoundError",
     "evalue": "File b'Sommerfeld/3' does not exist",
     "output_type": "error",
     "traceback": [
      "\u001b[1;31m---------------------------------------------------------------------------\u001b[0m",
      "\u001b[1;31mFileNotFoundError\u001b[0m                         Traceback (most recent call last)",
      "\u001b[1;32m<ipython-input-42-589360a7353d>\u001b[0m in \u001b[0;36m<module>\u001b[1;34m()\u001b[0m\n\u001b[0;32m      6\u001b[0m \u001b[0mreadFile\u001b[0m \u001b[1;33m=\u001b[0m \u001b[0msommerfeldPath\u001b[0m\u001b[1;33m(\u001b[0m\u001b[0msommFile\u001b[0m\u001b[1;33m)\u001b[0m\u001b[1;33m\u001b[0m\u001b[0m\n\u001b[0;32m      7\u001b[0m \u001b[1;33m\u001b[0m\u001b[0m\n\u001b[1;32m----> 8\u001b[1;33m \u001b[0mdataIn\u001b[0m \u001b[1;33m=\u001b[0m \u001b[0mpd\u001b[0m\u001b[1;33m.\u001b[0m\u001b[0mread_csv\u001b[0m\u001b[1;33m(\u001b[0m\u001b[0mreadFile\u001b[0m\u001b[1;33m,\u001b[0m \u001b[0msep\u001b[0m \u001b[1;33m=\u001b[0m \u001b[1;34m','\u001b[0m\u001b[1;33m)\u001b[0m\u001b[1;33m\u001b[0m\u001b[0m\n\u001b[0m\u001b[0;32m      9\u001b[0m \u001b[1;33m\u001b[0m\u001b[0m\n\u001b[0;32m     10\u001b[0m \u001b[1;33m\u001b[0m\u001b[0m\n",
      "\u001b[1;32mC:\\Users\\Adam Green\\Anaconda3\\lib\\site-packages\\pandas\\io\\parsers.py\u001b[0m in \u001b[0;36mparser_f\u001b[1;34m(filepath_or_buffer, sep, delimiter, header, names, index_col, usecols, squeeze, prefix, mangle_dupe_cols, dtype, engine, converters, true_values, false_values, skipinitialspace, skiprows, nrows, na_values, keep_default_na, na_filter, verbose, skip_blank_lines, parse_dates, infer_datetime_format, keep_date_col, date_parser, dayfirst, iterator, chunksize, compression, thousands, decimal, lineterminator, quotechar, quoting, escapechar, comment, encoding, dialect, tupleize_cols, error_bad_lines, warn_bad_lines, skipfooter, skip_footer, doublequote, delim_whitespace, as_recarray, compact_ints, use_unsigned, low_memory, buffer_lines, memory_map, float_precision)\u001b[0m\n\u001b[0;32m    707\u001b[0m                     skip_blank_lines=skip_blank_lines)\n\u001b[0;32m    708\u001b[0m \u001b[1;33m\u001b[0m\u001b[0m\n\u001b[1;32m--> 709\u001b[1;33m         \u001b[1;32mreturn\u001b[0m \u001b[0m_read\u001b[0m\u001b[1;33m(\u001b[0m\u001b[0mfilepath_or_buffer\u001b[0m\u001b[1;33m,\u001b[0m \u001b[0mkwds\u001b[0m\u001b[1;33m)\u001b[0m\u001b[1;33m\u001b[0m\u001b[0m\n\u001b[0m\u001b[0;32m    710\u001b[0m \u001b[1;33m\u001b[0m\u001b[0m\n\u001b[0;32m    711\u001b[0m     \u001b[0mparser_f\u001b[0m\u001b[1;33m.\u001b[0m\u001b[0m__name__\u001b[0m \u001b[1;33m=\u001b[0m \u001b[0mname\u001b[0m\u001b[1;33m\u001b[0m\u001b[0m\n",
      "\u001b[1;32mC:\\Users\\Adam Green\\Anaconda3\\lib\\site-packages\\pandas\\io\\parsers.py\u001b[0m in \u001b[0;36m_read\u001b[1;34m(filepath_or_buffer, kwds)\u001b[0m\n\u001b[0;32m    447\u001b[0m \u001b[1;33m\u001b[0m\u001b[0m\n\u001b[0;32m    448\u001b[0m     \u001b[1;31m# Create the parser.\u001b[0m\u001b[1;33m\u001b[0m\u001b[1;33m\u001b[0m\u001b[0m\n\u001b[1;32m--> 449\u001b[1;33m     \u001b[0mparser\u001b[0m \u001b[1;33m=\u001b[0m \u001b[0mTextFileReader\u001b[0m\u001b[1;33m(\u001b[0m\u001b[0mfilepath_or_buffer\u001b[0m\u001b[1;33m,\u001b[0m \u001b[1;33m**\u001b[0m\u001b[0mkwds\u001b[0m\u001b[1;33m)\u001b[0m\u001b[1;33m\u001b[0m\u001b[0m\n\u001b[0m\u001b[0;32m    450\u001b[0m \u001b[1;33m\u001b[0m\u001b[0m\n\u001b[0;32m    451\u001b[0m     \u001b[1;32mif\u001b[0m \u001b[0mchunksize\u001b[0m \u001b[1;32mor\u001b[0m \u001b[0miterator\u001b[0m\u001b[1;33m:\u001b[0m\u001b[1;33m\u001b[0m\u001b[0m\n",
      "\u001b[1;32mC:\\Users\\Adam Green\\Anaconda3\\lib\\site-packages\\pandas\\io\\parsers.py\u001b[0m in \u001b[0;36m__init__\u001b[1;34m(self, f, engine, **kwds)\u001b[0m\n\u001b[0;32m    816\u001b[0m             \u001b[0mself\u001b[0m\u001b[1;33m.\u001b[0m\u001b[0moptions\u001b[0m\u001b[1;33m[\u001b[0m\u001b[1;34m'has_index_names'\u001b[0m\u001b[1;33m]\u001b[0m \u001b[1;33m=\u001b[0m \u001b[0mkwds\u001b[0m\u001b[1;33m[\u001b[0m\u001b[1;34m'has_index_names'\u001b[0m\u001b[1;33m]\u001b[0m\u001b[1;33m\u001b[0m\u001b[0m\n\u001b[0;32m    817\u001b[0m \u001b[1;33m\u001b[0m\u001b[0m\n\u001b[1;32m--> 818\u001b[1;33m         \u001b[0mself\u001b[0m\u001b[1;33m.\u001b[0m\u001b[0m_make_engine\u001b[0m\u001b[1;33m(\u001b[0m\u001b[0mself\u001b[0m\u001b[1;33m.\u001b[0m\u001b[0mengine\u001b[0m\u001b[1;33m)\u001b[0m\u001b[1;33m\u001b[0m\u001b[0m\n\u001b[0m\u001b[0;32m    819\u001b[0m \u001b[1;33m\u001b[0m\u001b[0m\n\u001b[0;32m    820\u001b[0m     \u001b[1;32mdef\u001b[0m \u001b[0mclose\u001b[0m\u001b[1;33m(\u001b[0m\u001b[0mself\u001b[0m\u001b[1;33m)\u001b[0m\u001b[1;33m:\u001b[0m\u001b[1;33m\u001b[0m\u001b[0m\n",
      "\u001b[1;32mC:\\Users\\Adam Green\\Anaconda3\\lib\\site-packages\\pandas\\io\\parsers.py\u001b[0m in \u001b[0;36m_make_engine\u001b[1;34m(self, engine)\u001b[0m\n\u001b[0;32m   1047\u001b[0m     \u001b[1;32mdef\u001b[0m \u001b[0m_make_engine\u001b[0m\u001b[1;33m(\u001b[0m\u001b[0mself\u001b[0m\u001b[1;33m,\u001b[0m \u001b[0mengine\u001b[0m\u001b[1;33m=\u001b[0m\u001b[1;34m'c'\u001b[0m\u001b[1;33m)\u001b[0m\u001b[1;33m:\u001b[0m\u001b[1;33m\u001b[0m\u001b[0m\n\u001b[0;32m   1048\u001b[0m         \u001b[1;32mif\u001b[0m \u001b[0mengine\u001b[0m \u001b[1;33m==\u001b[0m \u001b[1;34m'c'\u001b[0m\u001b[1;33m:\u001b[0m\u001b[1;33m\u001b[0m\u001b[0m\n\u001b[1;32m-> 1049\u001b[1;33m             \u001b[0mself\u001b[0m\u001b[1;33m.\u001b[0m\u001b[0m_engine\u001b[0m \u001b[1;33m=\u001b[0m \u001b[0mCParserWrapper\u001b[0m\u001b[1;33m(\u001b[0m\u001b[0mself\u001b[0m\u001b[1;33m.\u001b[0m\u001b[0mf\u001b[0m\u001b[1;33m,\u001b[0m \u001b[1;33m**\u001b[0m\u001b[0mself\u001b[0m\u001b[1;33m.\u001b[0m\u001b[0moptions\u001b[0m\u001b[1;33m)\u001b[0m\u001b[1;33m\u001b[0m\u001b[0m\n\u001b[0m\u001b[0;32m   1050\u001b[0m         \u001b[1;32melse\u001b[0m\u001b[1;33m:\u001b[0m\u001b[1;33m\u001b[0m\u001b[0m\n\u001b[0;32m   1051\u001b[0m             \u001b[1;32mif\u001b[0m \u001b[0mengine\u001b[0m \u001b[1;33m==\u001b[0m \u001b[1;34m'python'\u001b[0m\u001b[1;33m:\u001b[0m\u001b[1;33m\u001b[0m\u001b[0m\n",
      "\u001b[1;32mC:\\Users\\Adam Green\\Anaconda3\\lib\\site-packages\\pandas\\io\\parsers.py\u001b[0m in \u001b[0;36m__init__\u001b[1;34m(self, src, **kwds)\u001b[0m\n\u001b[0;32m   1693\u001b[0m         \u001b[0mkwds\u001b[0m\u001b[1;33m[\u001b[0m\u001b[1;34m'allow_leading_cols'\u001b[0m\u001b[1;33m]\u001b[0m \u001b[1;33m=\u001b[0m \u001b[0mself\u001b[0m\u001b[1;33m.\u001b[0m\u001b[0mindex_col\u001b[0m \u001b[1;32mis\u001b[0m \u001b[1;32mnot\u001b[0m \u001b[1;32mFalse\u001b[0m\u001b[1;33m\u001b[0m\u001b[0m\n\u001b[0;32m   1694\u001b[0m \u001b[1;33m\u001b[0m\u001b[0m\n\u001b[1;32m-> 1695\u001b[1;33m         \u001b[0mself\u001b[0m\u001b[1;33m.\u001b[0m\u001b[0m_reader\u001b[0m \u001b[1;33m=\u001b[0m \u001b[0mparsers\u001b[0m\u001b[1;33m.\u001b[0m\u001b[0mTextReader\u001b[0m\u001b[1;33m(\u001b[0m\u001b[0msrc\u001b[0m\u001b[1;33m,\u001b[0m \u001b[1;33m**\u001b[0m\u001b[0mkwds\u001b[0m\u001b[1;33m)\u001b[0m\u001b[1;33m\u001b[0m\u001b[0m\n\u001b[0m\u001b[0;32m   1696\u001b[0m \u001b[1;33m\u001b[0m\u001b[0m\n\u001b[0;32m   1697\u001b[0m         \u001b[1;31m# XXX\u001b[0m\u001b[1;33m\u001b[0m\u001b[1;33m\u001b[0m\u001b[0m\n",
      "\u001b[1;32mpandas\\_libs\\parsers.pyx\u001b[0m in \u001b[0;36mpandas._libs.parsers.TextReader.__cinit__\u001b[1;34m()\u001b[0m\n",
      "\u001b[1;32mpandas\\_libs\\parsers.pyx\u001b[0m in \u001b[0;36mpandas._libs.parsers.TextReader._setup_parser_source\u001b[1;34m()\u001b[0m\n",
      "\u001b[1;31mFileNotFoundError\u001b[0m: File b'Sommerfeld/3' does not exist"
     ]
    }
   ],
   "source": [
    "##################################\n",
    "# Read in Sommerfeld CSV\n",
    "##################################\n",
    "sommFile = input('Sommerfeld File: ')\n",
    "readFile = sommerfeldPath(sommFile)\n",
    "\n",
    "dataIn = pd.read_csv(readFile, sep = ',')\n",
    "\n",
    "\n",
    "#####################\n",
    "# Extract Plot Data\n",
    "#####################\n",
    "mAList = dataIn['mA[GeV]']\n",
    "SommerfeldList = dataIn['ThermAvgSommerfeld']\n",
    "Filem_X = float(dataIn.loc[0,'mX[GeV]'])\n",
    "\n",
    "##################################\n",
    "# Determine the diplay Units of m_X \n",
    "##################################\n",
    "m_XUnit = 'None'\n",
    "if (Filem_X < 1000):\n",
    "    m_XDisplay = Filem_X\n",
    "    m_XUnit = 'GeV'\n",
    "\n",
    "if (Filem_X >= 1000):\n",
    "    m_XDisplay = Filem_X*10**-3\n",
    "    m_XUnit = 'TeV'\n",
    "\n",
    "#####################\n",
    "# Plot\n",
    "#####################\n",
    "fig = plt.figure(figsize = (6,6))\n",
    "Plot = plt.plot(np.log10(mAList),np.log10(SommerfeldList))\n",
    "plt.ylabel(r'$\\log( \\langle S_s \\rangle )$', fontsize = 14)\n",
    "plt.xlabel(r'$\\log( m_A ) [GeV]$', fontsize = 14)\n",
    "plt.suptitle('Sommerfeld Enhancement vs. $m_A$',fontsize = 16)\n",
    "plt.title(r'$m_X = {0}$ {1}'.format(m_XDisplay, m_XUnit),loc = 'right', fontsize = 14)\n",
    "plt.grid()\n",
    "\n",
    "print ('Complete')"
   ]
  },
  {
   "cell_type": "markdown",
   "metadata": {
    "heading_collapsed": true
   },
   "source": [
    "# Equilibrium Plots"
   ]
  },
  {
   "cell_type": "markdown",
   "metadata": {
    "hidden": true
   },
   "source": [
    "The general recipie is:\n",
    "1. Read in a completed Sommerfeld CSV\n",
    "2. Extract contour data\n",
    "3. Plot contours"
   ]
  },
  {
   "cell_type": "markdown",
   "metadata": {
    "hidden": true
   },
   "source": [
    "## Read In Sommerfeld File"
   ]
  },
  {
   "cell_type": "markdown",
   "metadata": {
    "hidden": true
   },
   "source": [
    "The following cell reads in an external Sommerfeld file and interpolates the discrete set of $\\langle S_S \\rangle(m_{A'})$ into a continuous function. To save computation time, this interpolated function is what will be called during the calculation of the equilibrium time as opposed to calling `DarkPhton.thermAvgSommerfeld` explicitly."
   ]
  },
  {
   "cell_type": "code",
   "execution_count": 35,
   "metadata": {
    "ExecuteTime": {
     "end_time": "2018-08-06T16:41:47.579853Z",
     "start_time": "2018-08-06T16:41:43.264732Z"
    },
    "hidden": true
   },
   "outputs": [
    {
     "name": "stdout",
     "output_type": "stream",
     "text": [
      "Sommerfeld Data File: 100GeVSommerfeld.csv\n",
      "Input m_X: 100.0 GeV\n",
      "Compete\n"
     ]
    }
   ],
   "source": [
    "sommFileName = input('Sommerfeld Data File: ')\n",
    "sommFile = sommerfeldPath(sommFileName)\n",
    "\n",
    "dataIn = pd.read_csv(sommFile, sep = ',')\n",
    "\n",
    "Filem_X = float(dataIn.at[0,'mX[GeV]'])\n",
    "FileKappa0 = float(dataIn.at[0,'Kappa0[GeV5]'])\n",
    "\n",
    "###############################\n",
    "# Set the correct units for m_X\n",
    "###############################\n",
    "m_XUnit = 'None'\n",
    "\n",
    "if (Filem_X < 1000):\n",
    "    m_XDisplay = Filem_X\n",
    "    m_XUnit = 'GeV'\n",
    "\n",
    "if (Filem_X >= 1000):\n",
    "    m_XDisplay = Filem_X*10**-3\n",
    "    m_XUnit = 'TeV'\n",
    "    \n",
    "\n",
    "# Double Check to make sure the file name matches the read-in value\n",
    "print ('Input m_X: {0} GeV'.format(Filem_X))\n",
    "\n",
    "\n",
    "###############################\n",
    "# Interpolate Sommerfeld\n",
    "###############################\n",
    "maList = dataIn['mA[GeV]']\n",
    "sommerfeldList = dataIn['ThermAvgSommerfeld']\n",
    "SommerfeldInterp = interpolate.interp1d(maList, sommerfeldList)\n",
    "\n",
    "\n",
    "print ('Compete')"
   ]
  },
  {
   "cell_type": "markdown",
   "metadata": {
    "ExecuteTime": {
     "end_time": "2018-03-27T16:40:56.634659Z",
     "start_time": "2018-03-27T16:40:56.631623Z"
    },
    "hidden": true
   },
   "source": [
    "## Extract Equilibrium Contours"
   ]
  },
  {
   "cell_type": "markdown",
   "metadata": {
    "hidden": true
   },
   "source": [
    "The following cell initializes `contourDictionary`, a dictionary which stores arrays of $\\varepsilon(m_{A'}$) values for different contours. The keys for `contourDictionary` are contour levels $L$ corresponding to the contour level $\\tau/\\tau_\\oplus = L$. The values of `contourDictionary` are an array of two sub-arrays. The first sub-array stores $\\varepsilon(m_{A'})$ with no sommerfeld enhancements ($\\langle S_S \\rangle =1$). The second sub-array stores $\\varepsilon(m_{A'})$ with sommerfeld enhancements."
   ]
  },
  {
   "cell_type": "code",
   "execution_count": 39,
   "metadata": {
    "ExecuteTime": {
     "end_time": "2018-08-06T16:51:45.979871Z",
     "start_time": "2018-08-06T16:51:45.694118Z"
    },
    "hidden": true
   },
   "outputs": [
    {
     "name": "stdout",
     "output_type": "stream",
     "text": [
      "Complete\n"
     ]
    }
   ],
   "source": [
    "####################################\n",
    "# Create contourDictionary\n",
    "####################################\n",
    "# The keys of contourDictionary define the 10^key contour level\n",
    "# the values are an array of plot values: [[],[]] \n",
    "# The first array is Sommerfeld off, the second array is sommerfeld on.\n",
    "contourDictionary={\n",
    "    '-4':[[],[]],\n",
    "    '-2':[[],[]],\n",
    "    '0' :[[],[]],\n",
    "    '2' :[[],[]],\n",
    "    '4' :[[],[]]\n",
    "}\n",
    "\n",
    "for key in contourDictionary:\n",
    "    contourDictionary[key] = [[],[]]\n",
    "\n",
    "####################################\n",
    "# Initialize the x-axis\n",
    "# 0.01 GeV < m_A < 10 GeV\n",
    "####################################\n",
    "maMin = min(maList)\n",
    "maMax = max(maList)\n",
    "\n",
    "maRange = np.logspace(np.log10(maMin), np.log10(maMax), 500, base = 10)\n",
    "\n",
    "####################################\n",
    "# Populate contourDictionary with plot values\n",
    "####################################\n",
    "maArray = []\n",
    "\n",
    "for maTemp in maRange:\n",
    "    maArray.append(maTemp)\n",
    "\n",
    "for key in contourDictionary:\n",
    "    contourline = float(key)\n",
    "    \n",
    "    for mATemp in maRange:\n",
    "        Alpha_X    = DP.alphaTherm(Filem_X, mATemp)\n",
    "        SigmaVTree = DP.sigmaVtree(Filem_X, mATemp, Alpha_X)\n",
    "        Sommerfeld = SommerfeldInterp(mATemp)\n",
    "        CannNoSomm = DP.cAnn(Filem_X, SigmaVTree)\n",
    "    \n",
    "        EpsilonNoSomm = DP.contourFunction(mATemp, Alpha_X, CannNoSomm, 1, FileKappa0, contourline)\n",
    "        EpsilonSomm   = DP.contourFunction(mATemp, Alpha_X, CannNoSomm, Sommerfeld, FileKappa0, contourline)\n",
    "    \n",
    "        contourDictionary[key][0].append(EpsilonNoSomm)\n",
    "        contourDictionary[key][1].append(EpsilonSomm)\n",
    "\n",
    "\n",
    "print ('Complete')"
   ]
  },
  {
   "cell_type": "markdown",
   "metadata": {
    "hidden": true
   },
   "source": [
    "## Generate Equilibrium Plots"
   ]
  },
  {
   "cell_type": "markdown",
   "metadata": {
    "hidden": true
   },
   "source": [
    "The following cell produces a single plot of the equilibrium time. The user must specify to turn the Sommerfeld enhancement \"on\" or \"off\" by following the prompt.\n",
    "\n",
    "We define a custom color scheme so that the contours follow a color gradient as opposed to the default `matplotlib` colors which are uncoordinated."
   ]
  },
  {
   "cell_type": "code",
   "execution_count": 41,
   "metadata": {
    "ExecuteTime": {
     "end_time": "2018-08-06T16:51:58.120322Z",
     "start_time": "2018-08-06T16:51:55.183485Z"
    },
    "hidden": true,
    "scrolled": false
   },
   "outputs": [
    {
     "name": "stdout",
     "output_type": "stream",
     "text": [
      "Sommerfeld on? No:0 Yes:1 1\n"
     ]
    },
    {
     "data": {
      "image/png": "[encoded data removed]",
      "text/plain": [
       "<matplotlib.figure.Figure at 0x2b4f3a8b4a8>"
      ]
     },
     "metadata": {},
     "output_type": "display_data"
    },
    {
     "name": "stdout",
     "output_type": "stream",
     "text": [
      "Complete\n"
     ]
    }
   ],
   "source": [
    "# Define custom Color scheme\n",
    "colorScheme1 = mpl.cycler(color=['#c7c47e','#94ab72','#428583','#40379f','#3d0b7e']) \n",
    "\n",
    "fig1 = plt.figure(figsize = (6,6))\n",
    "\n",
    "sommParam = int(input('Sommerfeld on? No:0 Yes:1 '))\n",
    "assert ((sommParam == 0) or (sommParam == 1)), 'Invalid Input, must be 0 or 1.'\n",
    "\n",
    "\n",
    "########################################\n",
    "# This uses a custom color scheme defined in Masterfunctions_Graphing\n",
    "########################################\n",
    "colors = colorScheme1\n",
    "mpl.rcParams['axes.prop_cycle'] = colors\n",
    "\n",
    "########################################\n",
    "# Produce the contour lines\n",
    "########################################\n",
    "testFill = False\n",
    "for key in contourDictionary:\n",
    "    if (float(key) == 0):\n",
    "        testFill = True\n",
    "    assert (len(maRange) == len(contourDictionary[key][sommParam])), 'ContourDictionary is probably not populated'\n",
    "    plt.plot(np.log10(maRange), (contourDictionary[key][sommParam]), label = r'10^{0}'.format(key))\n",
    "    \n",
    "\n",
    "########################################  \n",
    "# Shade the valid region of parameter space   \n",
    "########################################\n",
    "if (testFill == True):\n",
    "    xs = np.log10(maArray)\n",
    "    y1 = contourDictionary['0'][sommParam]\n",
    "    plt.fill_between(xs, y1, -5, color = '#E6FDFF')\n",
    "\n",
    "########################################\n",
    "# Define plot label stuff\n",
    "########################################\n",
    "plt.legend(loc = 'lower right', fontsize = 12)\n",
    "plt.xlabel(r\"$\\log(m_{A'})$ $[GeV]$\", fontsize = 14)\n",
    "plt.ylabel(r'$\\log(\\varepsilon)$', fontsize = 14)\n",
    "\n",
    "plt.title(r'$m_X = {0}$ {1}'.format(m_XDisplay, m_XUnit),\\\n",
    "          fontsize = 16,\\\n",
    "          loc = 'right')\n",
    "\n",
    "plt.title(r'$\\tau/\\tau_{\\oplus}$ Contours',\\\n",
    "          fontsize = 16,\\\n",
    "          loc = 'left')\n",
    "plt.axis([np.log10(min(maRange)),np.log10(max(maRange)),-10,-5])\n",
    "plt.grid()\n",
    "plt.show()\n",
    "\n",
    "print ('Complete')"
   ]
  },
  {
   "cell_type": "markdown",
   "metadata": {
    "hidden": true
   },
   "source": [
    "### Save Figure"
   ]
  },
  {
   "cell_type": "code",
   "execution_count": 15,
   "metadata": {
    "ExecuteTime": {
     "end_time": "2018-08-03T15:36:55.145073Z",
     "start_time": "2018-08-03T15:36:46.983868Z"
    },
    "hidden": true
   },
   "outputs": [
    {
     "name": "stdout",
     "output_type": "stream",
     "text": [
      "Figure Name: testEqPlot.png\n",
      "Complete\n"
     ]
    }
   ],
   "source": [
    "filename = input('Figure Name: ')\n",
    "assert (filename != ''), 'No Filename'\n",
    "fig1.savefig(filename, dpi = 700)\n",
    "\n",
    "print ('Complete')"
   ]
  },
  {
   "cell_type": "markdown",
   "metadata": {},
   "source": [
    "# IceCube Signal"
   ]
  },
  {
   "cell_type": "markdown",
   "metadata": {},
   "source": [
    "### Recipie"
   ]
  },
  {
   "cell_type": "markdown",
   "metadata": {},
   "source": [
    "The recipie for generating the Signal File is:\n",
    "\n",
    "1. Read in a Sommerfeld csv and branching ratio csv\n",
    "\n",
    "2. Define the resolution of the signal plot\n",
    "\n",
    "3. Check this resolution\n",
    " \n",
    "4. Initialize a template dataframe to hold the signal rate calculations\n",
    "\n",
    "5. Write that dataframe to an external csv file\n",
    "\n",
    "6. **This step is time consuming and computationally intensive.** <BR> Loop through signalData.csv, calculate $C_{Cap}$, $C_{Ann}$, $\\Gamma_{Ann}$, and $N_{Sig}$, append them to signalData.csv\n",
    "\n",
    "Step six can be quite lengthy depending on the desired resolution of the data points. Typically, one would begin these calculations and be forced to wait until they are completed in their entirety; perhaps unable to shut down their machine for hours at a time. The cell \"Signal File Calculations\" however can be interrupted at any time, and resumed later. This allows the user to run the calculation in multiple stages instead of dedicating a large chunk of time and running the calculation all at once. \n",
    "The calculation can be stopped by interrupting the Jupyter Kernel. Be sure to run the \"Manual Overwrite\" cell just to be sure that the calculations are saved."
   ]
  },
  {
   "cell_type": "markdown",
   "metadata": {},
   "source": [
    "## Initialize Signal.csv"
   ]
  },
  {
   "cell_type": "markdown",
   "metadata": {},
   "source": [
    "### Read in External Files"
   ]
  },
  {
   "cell_type": "markdown",
   "metadata": {},
   "source": [
    "In this cell, the user will read in two files:\n",
    "\n",
    "1. A completed Sommerfeld csv\n",
    "2. A csv containing the branching ratio for a given process\n",
    "\n",
    "We have provided the file `brtoe.csv` for the process $A' \\rightarrow e^+e^-$ as a sample.\n",
    "From these files, we generate interpolations for use in caluculating the signal rate."
   ]
  },
  {
   "cell_type": "code",
   "execution_count": 14,
   "metadata": {
    "ExecuteTime": {
     "end_time": "2018-08-06T19:17:35.445050Z",
     "start_time": "2018-08-06T19:17:27.862821Z"
    }
   },
   "outputs": [
    {
     "name": "stdout",
     "output_type": "stream",
     "text": [
      "Sommerfeld File: 100GeVSommerfeld.csv\n",
      "Branching File: brtoe.csv\n",
      "Complete\n"
     ]
    }
   ],
   "source": [
    "SommFileName = input('Sommerfeld File: ')\n",
    "\n",
    "branchFileName = (input('Branching File: '))\n",
    "\n",
    "print ('Complete')"
   ]
  },
  {
   "cell_type": "markdown",
   "metadata": {},
   "source": [
    "### Define the Resolution of the Signal Plot"
   ]
  },
  {
   "cell_type": "markdown",
   "metadata": {},
   "source": [
    "This cell initializes the resolution of the signal plot and consequently, the sampling density for the Sommerfeld enhancement. The variable `num` defines the resolution of this grid, so if `num = 50`, the reach plot will have a $50 \\times 50$ resolution and the Sommerfeld interpolation will contain 50 data points. Clearly, the number of calculatons for the reach plot is $\\texttt{num}^2$. We compare the resolution of the signal plot to the sommerfeld enhancement because the Sommerfeld effects are very sensitive to $m_{A'}$. In other words, small variations in $m_{A'}$ can drastically affect the Sommerfeld enhancement. If the reslution it too low, these drastic effects will not be captured, and the Sommerfeld effect will no longer be accurate. \n",
    "\n",
    "For the provided Sommerfeld file, `100GeVSommerfeld.csv`, the suggested resolution is `num = 200`. As `m_x` increases though, `num` will also need to increase to capture the finer and finer details of the Sommerfeld enhancement.\n",
    "\n",
    "One way understand what `num` does: \"The smoother the Sommerfeld interpolation, the smoother the reach plots will be.\" If `num` is too small, the Sommerfeld interpolation will be jagged, and the resulting reach plots will also contain these jagged features. Making `num` larger will smooth out the interpolation and smooth out the reach plots, but it will take longer to calculate. \n",
    "\n",
    "To demonstrate this point, read in `100GeVSommerfeld.csv` in the cell above and compare the Sommerfeld plots with `num = 40` to `num = 200'."
   ]
  },
  {
   "cell_type": "code",
   "execution_count": 4,
   "metadata": {
    "ExecuteTime": {
     "end_time": "2018-08-06T19:12:45.666016Z",
     "start_time": "2018-08-06T19:12:45.659068Z"
    }
   },
   "outputs": [
    {
     "name": "stdout",
     "output_type": "stream",
     "text": [
      "Complete\n"
     ]
    }
   ],
   "source": [
    "num = 40\n",
    "\n",
    "print ('Complete')"
   ]
  },
  {
   "cell_type": "markdown",
   "metadata": {},
   "source": [
    "### External File Interpolations"
   ]
  },
  {
   "cell_type": "markdown",
   "metadata": {},
   "source": [
    "The following cells read in and create interpolations of the:\n",
    "\n",
    "1). Sommerfeld Enhancement\n",
    "\n",
    "2). Branching ratio\n",
    "\n",
    "\n",
    "The file names for both these files will be written to the $\\texttt{signalData.csv}$ file. The reasoning behind this is to aid with the continuity of the calculation. If you want to run this notebook from top to bottom, you can calculate everything in one go. However, if you interrup the main calculation cell and restart your computer, all of the vairables loaded into Jupyter memory get wiped and the calculation will start from the very beginning. Writing these file names into the signalData.csv file means that to resume the calculation, you only need to run the main calculation cell as opposed to loading variables into Jupyter memory before starting the main calculation."
   ]
  },
  {
   "cell_type": "markdown",
   "metadata": {},
   "source": [
    "#### Sommerfeld Data Interpolation"
   ]
  },
  {
   "cell_type": "markdown",
   "metadata": {},
   "source": [
    "In this cell, we generate two plots of the Sommerfeld enhancement which will help to inform an appropriate value for `num`. \n",
    "\n",
    "The left plot is generated with a sampling of `num` points, representing the resolution of the final signal plot. The right plot is generated using all points from the Sommerfeld file as defined in the `Sommerfeld` section of this notebook. The idea is that the resolution of the left plot will also be the resolution of the final signal plot. If the plot with `num` points is jagged and rough, the final signal plot will also be jagged and rough. Therefore, the parameter `num` should be tuned, by changing it and rerunning this cell, to capture an appropriate resolution of the Sommerfeld enhancement. However, the larger `num` is, the longer the signal calculation will take since these calculations scale as `num`$^2$. Ultimately, the tradeoff is resolution and computation time."
   ]
  },
  {
   "cell_type": "code",
   "execution_count": 5,
   "metadata": {
    "ExecuteTime": {
     "end_time": "2018-08-06T19:12:50.380585Z",
     "start_time": "2018-08-06T19:12:48.549489Z"
    }
   },
   "outputs": [
    {
     "name": "stdout",
     "output_type": "stream",
     "text": [
      "Complete\n"
     ]
    },
    {
     "data": {
      "image/png": "[encoded data removed]",
      "text/plain": [
       "<matplotlib.figure.Figure at 0x217bda97b00>"
      ]
     },
     "metadata": {},
     "output_type": "display_data"
    }
   ],
   "source": [
    "SommFile = pd.read_csv(sommerfeldPath(SommFileName))\n",
    "\n",
    "####################################\n",
    "# Interpolate Sommerfeld data\n",
    "####################################\n",
    "mAData = SommFile['mA[GeV]']\n",
    "SommData = SommFile['ThermAvgSommerfeld']\n",
    "SommInterp = interpolate.interp1d(mAData,SommData)\n",
    "\n",
    "####################################\n",
    "# Create Comparison Plots\n",
    "####################################\n",
    "m_XSommerfeld = SommFile.loc[0,'mX[GeV]']\n",
    "kappa0Sommerfeld = SommFile.loc[0,'Kappa0[GeV5]']\n",
    "\n",
    "\n",
    "vect1 = [] # To store m_A values\n",
    "vect2 = [] # To store Sommerfeld values\n",
    "for ma in np.logspace(np.log10(min(mAData)),np.log10(max(mAData)), num, base = 10):\n",
    "    vect1.append(ma)\n",
    "    vect2.append(SommInterp(ma))\n",
    "        \n",
    "        \n",
    "\n",
    "fig1 = plt.figure(figsize = (14,6))\n",
    "plt.suptitle('Comparison of Sommerfeld Resolutions', fontsize = 18)\n",
    "\n",
    "ax1 = fig1.add_subplot(1,2,1)\n",
    "ax1.plot(np.log10(vect1),np.log10(vect2),color = '#1f77b4')\n",
    "ax1.set_xlabel(r\"$\\log(m_{A'})$ [GeV]\", fontsize = 14)\n",
    "ax1.set_ylabel(r\"$\\log(\\langle S_S \\rangle)$\", fontsize = 14)\n",
    "ax1.set_title('num = {0} Resolution'.format(num), fontsize = 14, loc = 'right')\n",
    "plt.grid()\n",
    "\n",
    "ax2 = fig1.add_subplot(1,2,2)\n",
    "ax2.plot(np.log10(mAData), np.log10(SommData), color = '#1f77b4')\n",
    "ax2.set_xlabel(r\"$\\log(m_{A'})$ [GeV]\", fontsize = 14)\n",
    "ax2.set_ylabel(r\"$\\log(\\langle S_S \\rangle)$\", fontsize = 14)\n",
    "ax2.set_title('num = 2500 Resolution', fontsize = 14, loc = 'right')\n",
    "plt.grid()\n",
    "\n",
    "\n",
    "print ('Complete')"
   ]
  },
  {
   "cell_type": "markdown",
   "metadata": {},
   "source": [
    "#### Branching Ratio Interpolation"
   ]
  },
  {
   "cell_type": "markdown",
   "metadata": {},
   "source": [
    "In this cell, we read in a .csv file containing discrete branching ratio data points obtained from WebPlotDigitizer and interpolate them into a continuous funciton named `branchRatioInterp`.\n",
    "\n",
    "The interpolation of this file is indeendent of the resolution chosen for `num` above. Hence, the resolution for this interpolation is fixed by the number of data points given in the branching ratio .csv file. For the process $A' \\rightarrow e^+ e^-$, there are 176 data points, so the interpolation uses all 176 points. "
   ]
  },
  {
   "cell_type": "code",
   "execution_count": 15,
   "metadata": {
    "ExecuteTime": {
     "end_time": "2018-08-06T19:17:41.928049Z",
     "start_time": "2018-08-06T19:17:41.525151Z"
    }
   },
   "outputs": [
    {
     "name": "stdout",
     "output_type": "stream",
     "text": [
      "Complete\n"
     ]
    },
    {
     "data": {
      "image/png": "[encoded data removed]",
      "text/plain": [
       "<matplotlib.figure.Figure at 0x217c9221588>"
      ]
     },
     "metadata": {},
     "output_type": "display_data"
    }
   ],
   "source": [
    "branchFile = pd.read_csv(branchPath(branchFileName))\n",
    "\n",
    "xListBranch = branchFile['mA[GeV]']\n",
    "yListBranch = branchFile['BR']\n",
    "\n",
    "branchRatioInterp = interpolate.interp1d(xListBranch,yListBranch)\n",
    "\n",
    "fig = plt.figure(figsize = (6,6))\n",
    "plt.plot(xListBranch,yListBranch)\n",
    "plt.xlabel(r\"$m_{A'}$ [GeV]\", fontsize = 14)\n",
    "plt.ylabel(r\"Branching Ratio\", fontsize = 14)\n",
    "plt.suptitle('Branching Ratio Interpolation Visualization', fontsize = 16)\n",
    "plt.title('num = {0}'.format(len(xListBranch)), fontsize = 14, loc = 'right')\n",
    "plt.grid()\n",
    "\n",
    "\n",
    "print ('Complete')"
   ]
  },
  {
   "cell_type": "markdown",
   "metadata": {
    "ExecuteTime": {
     "end_time": "2018-03-22T20:51:09.799117Z",
     "start_time": "2018-03-22T20:51:09.787988Z"
    }
   },
   "source": [
    "### Initialize Signal Dataframe"
   ]
  },
  {
   "cell_type": "markdown",
   "metadata": {},
   "source": [
    "This cell:\n",
    "\n",
    "1. Initializes the signal data frame\n",
    "\n",
    "2. Appends the $\\varepsilon$ and $m_{A'}$ data points based on the resolution dictated by the variable `num`. By default, the range for mediator mass and kinetic mixing are dictated by the range of $m_{A'}$ in the Sommerfld file, and $10^{-11} \\leq \\varepsilon \\leq 10^{-5}$. To change the range of $\\varepsilon$, adjust the arguments of the variable `epsilonLogRange`.\n",
    "\n",
    "3. Appends the column headers to the data frame\n",
    "\n",
    "Here, we provide a description of the purpose of each column. If the column values have units, we have included units in square brackets in the column headers.\n",
    "\n",
    "- `counter`: Explicitly stores the current row of the file. This is used as a loop variable to resume the calculation should it be stopped.\n",
    "- `mX[GeV]`: Stores the value of $m_X$ taken directly from the Sommerfeld csv\n",
    "\n",
    "- `mA[GeV]`: Stores `num` values of $m_A$ in the range $0.01 \\ \\text{GeV} \\leq m_{A'} \\leq 10 \\ \\text{GeV}$\n",
    "\n",
    "- `Epsilon`: Stores `num` values of $\\varepsilon$ in the range $10^{-11} \\leq \\varepsilon \\leq 10^{-5}$\n",
    "\n",
    "- `Capture[s-1]`: Stores the value of $C_\\text{cap}$ for the values in the corresponding row\n",
    "\n",
    "- `Annihilation[s-1]`: Stores the value of $C_\\text{ann}$ for the values in the corresponding row\n",
    "\n",
    "- `GammaAnn[s-1]`:Stores the value of $\\Gamma_\\text{ann}$ for the values in the corresponding row\n",
    "\n",
    "- `IceCubeSignal`: Stores the value of $N_{sig}$ for the values in the corresponding row\n",
    "\n",
    "- `LiveTime[s]`: Stores the live time of the experiment in seconds. By default, this is 10 years.\n",
    "\n",
    "- `SommerfeldFile`: Stores the name of the working Sommerfeld file\n",
    "\n",
    "- `BranchingRatioFile`: Stores the name of the working branching ratio file\n",
    "\n",
    "- `Resolution`: Stores the value for the parameter `num`\n",
    "\n",
    "- `Kappa0[GeV5]`: Stores the value of $\\kappa_0$ taken directly from the Sommerfeld csv"
   ]
  },
  {
   "cell_type": "code",
   "execution_count": 19,
   "metadata": {
    "ExecuteTime": {
     "end_time": "2018-08-06T19:19:23.246551Z",
     "start_time": "2018-08-06T19:19:23.213875Z"
    }
   },
   "outputs": [
    {
     "name": "stdout",
     "output_type": "stream",
     "text": [
      "Complete\n"
     ]
    }
   ],
   "source": [
    "#########################################\n",
    "# Define parameter space Ranges\n",
    "#########################################\n",
    "# Logarithmic Spacing because we plot this in log-log space\n",
    "# 0.01 GeV < mA < 10 GeV\n",
    "# 10^-11 < Epsilon < 10^-5\n",
    "\n",
    "maMin = (min(mAData))\n",
    "maMax = (max(mAData))\n",
    "\n",
    "mALogRange = np.logspace(np.log10(maMin), np.log10(maMax), num, base = 10)\n",
    "epsilonLogRange = np.logspace(-11, -5, num, base = 10)\n",
    "\n",
    "#########################################\n",
    "# Initialize Master Arrays\n",
    "#########################################\n",
    "masterSignalArray = []\n",
    "\n",
    "#########################################\n",
    "# Populate the Master Arrays with the column headers and 'None' Cells\n",
    "#########################################\n",
    "counter = 0\n",
    "for mATemp in mALogRange:\n",
    "    for epsilonTemp in epsilonLogRange:\n",
    "        masterSignalArray.append([counter, ' ', mATemp, epsilonTemp, \\\n",
    "                                  'None', 'None', 'None', 'None', ' ', \\\n",
    "                                  ' ', ' ',' ', ' '])\n",
    "        counter +=1\n",
    "#########################################\n",
    "# Create a PANDAS DataFrame from the Master Arrays\n",
    "#########################################\n",
    "masterSignalDataframe = pd.DataFrame(data = masterSignalArray, \\\n",
    "    columns=['Counter', 'mX[GeV]', 'mA[GeV]', 'Epsilon',\\\n",
    "             'Capture[s-1]', 'Annihilation[s-1]', 'GammaAnn[s-1]', 'IceCubeSignal', 'LiveTime[s]', \\\n",
    "             'SommerfeldFile', 'BranchingRatioFile','Resolution','Kappa0[GeV5]'])\n",
    "\n",
    "print ('Complete')"
   ]
  },
  {
   "cell_type": "markdown",
   "metadata": {},
   "source": [
    "### Write to External .csv File"
   ]
  },
  {
   "cell_type": "markdown",
   "metadata": {
    "ExecuteTime": {
     "end_time": "2018-03-22T20:57:01.532084Z",
     "start_time": "2018-03-22T20:57:01.522605Z"
    }
   },
   "source": [
    "This cell writes the signal data frame to an external csv file. The naming convention should follow the Sommerfeld csv file, namely:\n",
    "    \n",
    "    <#><unit>Signal.csv\n",
    "\n",
    "So for $m_X = 100$ GeV, the corresponding signal file would be named:\n",
    "\n",
    "    100GeVSignal.csv\n",
    "\n",
    "We also print out all values to bed written to this csv just to double check they are all correct. These values uniquely determine a calculation."
   ]
  },
  {
   "cell_type": "code",
   "execution_count": 20,
   "metadata": {
    "ExecuteTime": {
     "end_time": "2018-08-06T19:19:29.560754Z",
     "start_time": "2018-08-06T19:19:24.960785Z"
    }
   },
   "outputs": [
    {
     "name": "stdout",
     "output_type": "stream",
     "text": [
      "Signal Rate filename: testSignal2.csv\n",
      "--------------------\n",
      "You are about to write the following to testSignal2.csv\n",
      "mX[GeV]             : 100.0\n",
      "Kappa0[GeV5]        : 5.851659530104901e+27\n",
      "Live Time           : 315360000.0\n",
      "Sommerfeld File     : 100GeVSommerfeld.csv\n",
      "Branching Ratio File: brtoe.csv\n",
      "Resolution          : 40\n",
      "\n",
      "Write to testSignal2.csv.csv? (y/n) y\n",
      "Write executed\n",
      "Complete\n"
     ]
    }
   ],
   "source": [
    "signalFileName = input('Signal Rate filename: ')\n",
    "if signalFileName == '':\n",
    "    print (\"Using default filename\")\n",
    "    sinalFileName = 'Signal_DEFAULT.csv'\n",
    "signalFile = signalPath(signalFileName)\n",
    "assert (signalFileName[-4:] == '.csv'), 'Must inclue \".csv\" in the file name'\n",
    "\n",
    "#############################\n",
    "# Double check that these values are correct\n",
    "#############################\n",
    "liveTime = DarkCapPy.Configure.Conversions.yr2s(10)\n",
    "\n",
    "print ('--------------------')\n",
    "print ('You are about to write the following to {0}'.format(signalFileName))\n",
    "print ('mX[GeV]             : {0}'.format(m_XSommerfeld))\n",
    "print ('Kappa0[GeV5]        : {0}'.format(kappa0Sommerfeld))\n",
    "print ('Live Time           : {0}'.format(liveTime))\n",
    "print ('Sommerfeld File     : {0}'.format(SommFileName))\n",
    "print ('Branching Ratio File: {0}'.format(branchFileName))\n",
    "print ('Resolution          : {0}'.format(num))\n",
    "print ()\n",
    "\n",
    "yesNo = input ('Write to {0}.csv? (y/n) '.format(signalFileName))\n",
    "assert (yesNo == 'y' or yesNo == 'n'), 'Invalid input, must be \"y\" or \"n.\"'\n",
    "\n",
    "if ((yesNo == 'y') or (yesNo == 'Y')):\n",
    "    kappa0Value = 'None'\n",
    "    m_XValue = 'None'\n",
    "    \n",
    "    masterSignalDataframe.at[0, 'mX[GeV]']            = m_XSommerfeld\n",
    "    masterSignalDataframe.at[0, 'Kappa0[GeV5]']       = kappa0Sommerfeld\n",
    "    masterSignalDataframe.at[0, 'LiveTime[s]']        = liveTime\n",
    "    masterSignalDataframe.at[0, 'SommerfeldFile']     = SommFileName\n",
    "    masterSignalDataframe.at[0, 'BranchingRatioFile'] = branchFile\n",
    "    masterSignalDataframe.at[0, 'Resolution']         = num\n",
    "\n",
    "    masterSignalDataframe.to_csv(signalFile, index=False)\n",
    "    \n",
    "    print ('Write executed')\n",
    "    \n",
    "else:\n",
    "    print ('Write aborted')\n",
    "\n",
    "print ('Complete')"
   ]
  },
  {
   "cell_type": "markdown",
   "metadata": {},
   "source": [
    "----------------------"
   ]
  },
  {
   "cell_type": "markdown",
   "metadata": {},
   "source": [
    "Run these two cells onces you have a working signalData.csv file and you want to either start or resume calculations."
   ]
  },
  {
   "cell_type": "markdown",
   "metadata": {},
   "source": [
    "## Signal.csv Calculations"
   ]
  },
  {
   "cell_type": "markdown",
   "metadata": {},
   "source": [
    "** This cell is the main work-horse of this notebook**\n",
    "\n",
    "This is the cell where the signal csv file is populated with values. \n",
    "\n",
    "The algorithm is:\n",
    "1. Input an incomplete signal file\n",
    "2. Create a backup of that file. This ensures that even if the calculation is interrupted and the manual overwrite isn't run, that not all data will be lost.\n",
    "3. Generate interpolations of the Sommerfeld effects and branching ratio\n",
    "4. Iterate through the `counter` column looking at the value of `IceCubeSignal`\n",
    "    4. If `IceCubeSignal` is `None`, compute all values in that row\n",
    "    4. Else, continue to loop\n",
    "5. Append newly calculated values to the csv\n",
    "6. Overwrite the csv\n",
    "7. Loop steps 2-6.\n",
    "\n",
    "\n",
    "Since this is the main working cell in this notebook, there are a number of features intended to make the users life easier. First, once the user has generated a signal file, this is the only cell needed to perform calculations and populate a signal file. Said another way, there are no other cells to load variables into Jupyter memory other than the inialization cells. Second, depending on the resolution of your plot, this calculation may take $\\mathcal{O}(10)$ hours to complete. Since this cell saves each iteration to an external file, we have intended this calcuation to be interrupted, by interrupting the Jupyter kernel, and resumed later. There is a subtlety in doing this though. Durring the debugging stage, occassionally after interrupting the Kernel, the external csv would be completely blank. To prevent this, it is imparitive that the Manual Overwrite cell is run. This ensures that even if the kernel is interrupted in such a way that the external csv is blank, the dataframe stored in Jupyter memory is still written to the csv and no data is lost. Failure to run the manual overwrite cell may result in a loss of the entire signal file.\n",
    "\n",
    "To resume this calculation, simply run this cell and input the file to continue caluclating. The algorithm will iterate through the `counter` column until it finds a row which hasn't been calculated.\n",
    "\n",
    "As a benchmark, with a resolution of `num = 200`, the upper left plot of Fig. 3 in [https://arxiv.org/abs/1509.07525](https://arxiv.org/abs/1509.07525) took about 8 hours of run time.\n"
   ]
  },
  {
   "cell_type": "code",
   "execution_count": 16,
   "metadata": {
    "ExecuteTime": {
     "end_time": "2018-08-06T19:06:32.647859Z",
     "start_time": "2018-08-06T19:06:24.164951Z"
    },
    "scrolled": true
   },
   "outputs": [
    {
     "name": "stdout",
     "output_type": "stream",
     "text": [
      "Signal Rate File: testSignal.csv\n",
      "Backup Created\n",
      "\n",
      "--------------------\n",
      "Calculations for index: 0 recorded\n",
      "Calculations for index: 20 recorded\n",
      "Calculations for index: 40 recorded\n",
      "Calculations for index: 60 recorded\n"
     ]
    },
    {
     "ename": "KeyboardInterrupt",
     "evalue": "",
     "output_type": "error",
     "traceback": [
      "\u001b[1;31m---------------------------------------------------------------------------\u001b[0m",
      "\u001b[1;31mKeyboardInterrupt\u001b[0m                         Traceback (most recent call last)",
      "\u001b[1;32m<ipython-input-16-dfac21397971>\u001b[0m in \u001b[0;36m<module>\u001b[1;34m()\u001b[0m\n\u001b[0;32m     91\u001b[0m         \u001b[1;31m# Overwrite SignalFile.csv\u001b[0m\u001b[1;33m\u001b[0m\u001b[1;33m\u001b[0m\u001b[0m\n\u001b[0;32m     92\u001b[0m         \u001b[1;31m#########################################\u001b[0m\u001b[1;33m\u001b[0m\u001b[1;33m\u001b[0m\u001b[0m\n\u001b[1;32m---> 93\u001b[1;33m         \u001b[0msignalDataIn\u001b[0m\u001b[1;33m.\u001b[0m\u001b[0mto_csv\u001b[0m\u001b[1;33m(\u001b[0m\u001b[0msignalFile\u001b[0m\u001b[1;33m,\u001b[0m \u001b[0msep\u001b[0m\u001b[1;33m=\u001b[0m\u001b[1;34m','\u001b[0m\u001b[1;33m,\u001b[0m\u001b[0mindex\u001b[0m\u001b[1;33m=\u001b[0m\u001b[1;32mFalse\u001b[0m\u001b[1;33m)\u001b[0m\u001b[1;33m\u001b[0m\u001b[0m\n\u001b[0m\u001b[0;32m     94\u001b[0m         \u001b[0mfinishedCounter\u001b[0m \u001b[1;33m+=\u001b[0m \u001b[1;36m1\u001b[0m\u001b[1;33m\u001b[0m\u001b[0m\n\u001b[0;32m     95\u001b[0m \u001b[1;33m\u001b[0m\u001b[0m\n",
      "\u001b[1;32mC:\\Users\\Adam Green\\Anaconda3\\lib\\site-packages\\pandas\\core\\frame.py\u001b[0m in \u001b[0;36mto_csv\u001b[1;34m(self, path_or_buf, sep, na_rep, float_format, columns, header, index, index_label, mode, encoding, compression, quoting, quotechar, line_terminator, chunksize, tupleize_cols, date_format, doublequote, escapechar, decimal)\u001b[0m\n\u001b[0;32m   1522\u001b[0m                                      \u001b[0mdoublequote\u001b[0m\u001b[1;33m=\u001b[0m\u001b[0mdoublequote\u001b[0m\u001b[1;33m,\u001b[0m\u001b[1;33m\u001b[0m\u001b[0m\n\u001b[0;32m   1523\u001b[0m                                      escapechar=escapechar, decimal=decimal)\n\u001b[1;32m-> 1524\u001b[1;33m         \u001b[0mformatter\u001b[0m\u001b[1;33m.\u001b[0m\u001b[0msave\u001b[0m\u001b[1;33m(\u001b[0m\u001b[1;33m)\u001b[0m\u001b[1;33m\u001b[0m\u001b[0m\n\u001b[0m\u001b[0;32m   1525\u001b[0m \u001b[1;33m\u001b[0m\u001b[0m\n\u001b[0;32m   1526\u001b[0m         \u001b[1;32mif\u001b[0m \u001b[0mpath_or_buf\u001b[0m \u001b[1;32mis\u001b[0m \u001b[1;32mNone\u001b[0m\u001b[1;33m:\u001b[0m\u001b[1;33m\u001b[0m\u001b[0m\n",
      "\u001b[1;32mC:\\Users\\Adam Green\\Anaconda3\\lib\\site-packages\\pandas\\io\\formats\\format.py\u001b[0m in \u001b[0;36msave\u001b[1;34m(self)\u001b[0m\n\u001b[0;32m   1654\u001b[0m         \u001b[1;32mfinally\u001b[0m\u001b[1;33m:\u001b[0m\u001b[1;33m\u001b[0m\u001b[0m\n\u001b[0;32m   1655\u001b[0m             \u001b[1;32mif\u001b[0m \u001b[0mclose\u001b[0m\u001b[1;33m:\u001b[0m\u001b[1;33m\u001b[0m\u001b[0m\n\u001b[1;32m-> 1656\u001b[1;33m                 \u001b[0mf\u001b[0m\u001b[1;33m.\u001b[0m\u001b[0mclose\u001b[0m\u001b[1;33m(\u001b[0m\u001b[1;33m)\u001b[0m\u001b[1;33m\u001b[0m\u001b[0m\n\u001b[0m\u001b[0;32m   1657\u001b[0m \u001b[1;33m\u001b[0m\u001b[0m\n\u001b[0;32m   1658\u001b[0m     \u001b[1;32mdef\u001b[0m \u001b[0m_save_header\u001b[0m\u001b[1;33m(\u001b[0m\u001b[0mself\u001b[0m\u001b[1;33m)\u001b[0m\u001b[1;33m:\u001b[0m\u001b[1;33m\u001b[0m\u001b[0m\n",
      "\u001b[1;31mKeyboardInterrupt\u001b[0m: "
     ]
    }
   ],
   "source": [
    "#########################################\n",
    "# Read in Signal File\n",
    "#########################################\n",
    "signalFileName = input('Signal Rate File: ')\n",
    "signalFile = signalPath(signalFileName)\n",
    "signalDataIn = pd.read_csv(signalFile, sep = ',')\n",
    "\n",
    "#########################################\n",
    "# Create backup of Signal File \n",
    "#########################################\n",
    "now = datetime.now()\n",
    "timeStamp = now.strftime('%b-%d_%H.%M')\n",
    "signalFileNameCopy = signalFileName[:-4] + '_' + timeStamp + '.csv'\n",
    "signalDataIn.to_csv(signalBackupPath(signalFileNameCopy), sep=',', index=False)\n",
    "print ('Backup Created')\n",
    "\n",
    "\n",
    "#########################################\n",
    "# Constants in (mA, epsilon) space:\n",
    "#########################################\n",
    "signalm_X = float(signalDataIn.at[0, 'mX[GeV]'])\n",
    "FileKappa0 = float(signalDataIn.at[0, 'Kappa0[GeV5]'])\n",
    "Alpha = 1./137\n",
    "LiveTime = signalDataIn.at[0, 'LiveTime[s]']\n",
    "\n",
    "\n",
    "#########################################\n",
    "# Sommerfeld Interpolation\n",
    "#########################################\n",
    "sommFileName = signalDataIn.at[0,'SommerfeldFile']\n",
    "sommDataIn = pd.read_csv(sommerfeldPath(sommFileName))\n",
    "mAData = sommDataIn['mA[GeV]']\n",
    "SommDataValues = sommDataIn['ThermAvgSommerfeld']\n",
    "SommInterp = interpolate.interp1d(mAData,SommDataValues)\n",
    "\n",
    "#########################################\n",
    "# Branching Ratio Interpolation\n",
    "#########################################\n",
    "branchFileName = signalDataIn.at[0,'BranchingRatioFile']\n",
    "branchDataIn = pd.read_csv(branchPath(branchFileName))\n",
    "mABranch = branchDataIn['mA[GeV]']\n",
    "branchingDataValues = branchDataIn['BR']\n",
    "branchRatioInterp = interpolate.interp1d(mABranch,branchingDataValues)\n",
    "\n",
    "\n",
    "#########################################\n",
    "# Begin iterating through the file\n",
    "#########################################\n",
    "loopRange = range(0,len(signalDataIn['Counter']))\n",
    "print ()\n",
    "print ('--------------------')\n",
    "finishedCounter = 0\n",
    "index = 0\n",
    "for index in loopRange:\n",
    "    testValue = signalDataIn.loc[index, 'IceCubeSignal']\n",
    "    \n",
    "    if (testValue == 'None'):\n",
    "        #########################################\n",
    "        # Initialize iteration-specific Quantities\n",
    "        #########################################\n",
    "        signalm_ATemp = float(signalDataIn.at[index, 'mA[GeV]'])\n",
    "        FileEpsilonTemp = float(signalDataIn.at[index, 'Epsilon'])\n",
    "        Alpha_X = DP.alphaTherm(signalm_X, signalm_ATemp)      \n",
    "        Sommerfeld = SommInterp(signalm_ATemp)\n",
    "        BranchingRatio = branchRatioInterp(signalm_ATemp)\n",
    "        \n",
    "        #########################################\n",
    "        # Parameter Spce Calculations\n",
    "        #########################################\n",
    "        Capture = DP.cCapQuick(signalm_X, signalm_ATemp, FileEpsilonTemp, Alpha_X, FileKappa0)\n",
    "        SigmaVTree = DP.sigmaVtree(signalm_X, signalm_ATemp, Alpha_X)\n",
    "        Annihilation = DP.cAnn(signalm_X, SigmaVTree, thermAvgSomm = Sommerfeld)\n",
    "        GammaAnn = DP.gammaAnn(Capture, Annihilation)\n",
    "        L = DP.decayLength(signalm_X, signalm_ATemp, FileEpsilonTemp, BranchingRatio)\n",
    "        EpsilonDecay = DP.epsilonDecay(L)\n",
    "        \n",
    "        IceCubeSignal = DP.iceCubeSignal(GammaAnn, EpsilonDecay, LiveTime)\n",
    "\n",
    "        #########################################\n",
    "        # Append Calculated Values to SignalFile.csv\n",
    "        #########################################\n",
    "        signalDataIn.at[index, 'Capture[s-1]']      = Capture\n",
    "        signalDataIn.at[index, 'Annihilation[s-1]'] = Annihilation\n",
    "        signalDataIn.at[index, 'GammaAnn[s-1]']     = GammaAnn\n",
    "        signalDataIn.at[index, 'IceCubeSignal']     = IceCubeSignal\n",
    "        \n",
    "        \n",
    "        #########################################\n",
    "        # Overwrite SignalFile.csv\n",
    "        #########################################\n",
    "        signalDataIn.to_csv(signalFile, sep=',',index=False) \n",
    "        finishedCounter += 1\n",
    "        \n",
    "        if (index % 20 == 0):\n",
    "            print ('Calculations for index: {0} recorded'.format(index))\n",
    "        \n",
    "    elif (testValue != 'None'):\n",
    "        finishedCounter += 1\n",
    "    \n",
    "    if (finishedCounter == len(signalDataIn['Counter'])):\n",
    "        print ('--------------------')\n",
    "        print ('All Calculations Complete')\n",
    "        break\n",
    "        \n",
    "print ('Complete')"
   ]
  },
  {
   "cell_type": "markdown",
   "metadata": {},
   "source": [
    "### Manual Overwrite"
   ]
  },
  {
   "cell_type": "markdown",
   "metadata": {},
   "source": [
    "This cell is a manual overwrite of the signalData.csv file.\n",
    "\n",
    "It is REQUIRED that you run this if you interrupt the calculation. Failure to do so could result in a loss of all your data."
   ]
  },
  {
   "cell_type": "code",
   "execution_count": 17,
   "metadata": {
    "ExecuteTime": {
     "end_time": "2018-08-06T19:06:42.352828Z",
     "start_time": "2018-08-06T19:06:40.729820Z"
    }
   },
   "outputs": [
    {
     "name": "stdout",
     "output_type": "stream",
     "text": [
      "Working Signal File: Signal/testSignal.csv\n",
      "Overwrite? (y/n): y\n",
      "Overwrite complete\n",
      "Complete\n"
     ]
    }
   ],
   "source": [
    "print ('Working Signal File: {0}'.format(signalFile))\n",
    "\n",
    "overwrite = input('Overwrite? (y/n): ')\n",
    "if ((overwrite == 'y') or (overwrite == 'Y')):\n",
    "    signalDataIn.to_csv(signalFile, sep=',',index=False) \n",
    "    print ('Overwrite complete')\n",
    "    \n",
    "else:\n",
    "    print ('Overwrite aborted')\n",
    "\n",
    "print ('Complete')"
   ]
  },
  {
   "cell_type": "markdown",
   "metadata": {},
   "source": [
    "## Plot Signal Events"
   ]
  },
  {
   "cell_type": "markdown",
   "metadata": {},
   "source": [
    "### Extract Plot Data"
   ]
  },
  {
   "cell_type": "markdown",
   "metadata": {},
   "source": [
    "This cell reads in a completed signal file and plots `mA[GeV]` on the horizontal axis, `Epsilon` on the vertical axis, and `IceCubeSignal` as contours."
   ]
  },
  {
   "cell_type": "code",
   "execution_count": 45,
   "metadata": {
    "ExecuteTime": {
     "end_time": "2018-08-03T16:24:41.374711Z",
     "start_time": "2018-08-03T16:24:40.959782Z"
    }
   },
   "outputs": [
    {
     "name": "stdout",
     "output_type": "stream",
     "text": [
      "Complete\n"
     ]
    }
   ],
   "source": [
    "signalFile = input('Signal Rate filename: ')\n",
    "readFile = signalPath(signalFile)\n",
    "rawData = pd.read_csv(readFile)\n",
    "Filem_X = float(rawData.loc[0,'mX[GeV]'])\n",
    "\n",
    "#Pull out min / max values on each axis\n",
    "xMin = min(rawData['mA[GeV]'])\n",
    "xMax = max(rawData['mA[GeV]'])\n",
    "yMin = min(rawData['Epsilon'])\n",
    "yMax = max(rawData['Epsilon'])\n",
    "\n",
    "\n",
    "#########################################\n",
    "# Define the dimension of the grid. \n",
    "# For an n x n grid, this will pull out the number \"n\"\n",
    "#########################################\n",
    "gridDim = int(rawData.loc[0,'Resolution'])\n",
    "\n",
    "\n",
    "#########################################\n",
    "# Create the n x n grid\n",
    "#########################################\n",
    "# Logarithmic Spacing\n",
    "xLogRange = np.logspace(np.log10(xMin), np.log10(xMax) , gridDim, base = 10)\n",
    "yLogRange = np.logspace(np.log10(yMin), np.log10(yMax), gridDim, base = 10)\n",
    "\n",
    "\n",
    "#########################################\n",
    "# Read in and reshape the Contour data\n",
    "#########################################\n",
    "# This reads in contour data as a single column,\n",
    "#     but we reshape it to a 2D, n x n array to fit the grid\n",
    "\n",
    "z = [rawData['IceCubeSignal']]\n",
    "SignalData = np.reshape(z, (len(xLogRange), len(yLogRange)))\n",
    "\n",
    "print ('Complete')"
   ]
  },
  {
   "cell_type": "markdown",
   "metadata": {},
   "source": [
    "### Plot the Signal Events"
   ]
  },
  {
   "cell_type": "code",
   "execution_count": 48,
   "metadata": {
    "ExecuteTime": {
     "end_time": "2018-08-03T16:33:42.025062Z",
     "start_time": "2018-08-03T16:33:40.338746Z"
    },
    "scrolled": false
   },
   "outputs": [
    {
     "name": "stderr",
     "output_type": "stream",
     "text": [
      "C:\\Users\\Adam Green\\Anaconda3\\lib\\site-packages\\ipykernel_launcher.py:19: RuntimeWarning: divide by zero encountered in log10\n"
     ]
    },
    {
     "name": "stdout",
     "output_type": "stream",
     "text": [
      "Complete\n"
     ]
    },
    {
     "data": {
      "image/png": "[encoded data removed]",
      "text/plain": [
       "<matplotlib.figure.Figure at 0x23ffe201748>"
      ]
     },
     "metadata": {},
     "output_type": "display_data"
    }
   ],
   "source": [
    "###############################\n",
    "# Set the correct units for m_X\n",
    "###############################\n",
    "m_XUnit = 'None'\n",
    "if (Filem_X < 1000):\n",
    "    m_XDisplay = Filem_X\n",
    "    m_XUnit = 'GeV'\n",
    "\n",
    "if (Filem_X >= 1000):\n",
    "    m_XDisplay = Filem_X * 10**-3\n",
    "    m_XUnit = 'TeV'\n",
    "    \n",
    "    \n",
    "###############################\n",
    "# Plotting\n",
    "###############################\n",
    "signalFig = plt.figure(figsize = (6,6))\n",
    "\n",
    "CP = plt.contour(np.log10(xLogRange), np.log10(yLogRange), \\\n",
    "                 np.log10(SignalData.transpose()),\\\n",
    "                 levels=[0,1,2,3],\\\n",
    "                )\n",
    "\n",
    "xLabelNums = [-2,-1,0,1]\n",
    "xLabelText = [r'$10^{-2}$',r'$10^{-1}$',r'$10^{0}$',r'$10^{1}$']\n",
    "\n",
    "yLabelNums = [-5,-6,-7,-8,-9,-10,-11]\n",
    "yLabelText = [r'$10^{-5}$', r'$10^{-6}$', r'$10^{-7}$', r'$10^{-8}$', \\\n",
    "              r'$10^{-9}$', r'$10^{-10}$', r'$10^{-11}$']\n",
    "\n",
    "\n",
    "plt.xticks(xLabelNums, xLabelText, fontsize = 12)\n",
    "plt.yticks(yLabelNums, yLabelText, fontsize = 12)\n",
    "\n",
    "plt.xlabel(r\"$m_{A'}$ $[GeV]$\", fontsize = 14)\n",
    "plt.ylabel(r'$\\varepsilon$', fontsize = 18)\n",
    "plt.suptitle('IceCube Events', fontsize = 16)\n",
    "plt.title(r'$m_X$ = {0} {1}'.format(m_XDisplay, m_XUnit), loc = 'right', fontsize = 13)\n",
    "\n",
    "labels = [r'1', r'$10$',r'$10^2$',r'$10^3$']\n",
    "for i in range(len(labels)):\n",
    "    CP.collections[i].set_label(labels[i])\n",
    "\n",
    "plt.legend(loc='upper right', fontsize = 13)\n",
    "plt.grid()\n",
    "print ('Complete')"
   ]
  },
  {
   "cell_type": "markdown",
   "metadata": {},
   "source": [
    "#### Save Figure"
   ]
  },
  {
   "cell_type": "code",
   "execution_count": 51,
   "metadata": {
    "ExecuteTime": {
     "end_time": "2018-08-03T16:34:55.546844Z",
     "start_time": "2018-08-03T16:34:47.306031Z"
    },
    "scrolled": true
   },
   "outputs": [
    {
     "name": "stdout",
     "output_type": "stream",
     "text": [
      "Filename: testSignal2.png\n",
      "Complete\n"
     ]
    }
   ],
   "source": [
    "figName = input('Filename: ')\n",
    "\n",
    "signalFig.savefig((figName), dpi = 700,\n",
    "             bbox_inches = 'tight', # If this isn't here, it partially cuts off the axis labels\n",
    "            )\n",
    "print ('Complete')"
   ]
  },
  {
   "cell_type": "code",
   "execution_count": null,
   "metadata": {
    "collapsed": true
   },
   "outputs": [],
   "source": []
  }
 ],
 "metadata": {
  "kernelspec": {
   "display_name": "Python 3",
   "language": "python",
   "name": "python3"
  },
  "language_info": {
   "codemirror_mode": {
    "name": "ipython",
    "version": 3
   },
   "file_extension": ".py",
   "mimetype": "text/x-python",
   "name": "python",
   "nbconvert_exporter": "python",
   "pygments_lexer": "ipython3",
   "version": "3.6.2"
  },
  "latex_envs": {
   "LaTeX_envs_menu_present": true,
   "autocomplete": false,
   "bibliofile": "biblio.bib",
   "cite_by": "apalike",
   "current_citInitial": 1,
   "eqLabelWithNumbers": true,
   "eqNumInitial": 1,
   "hotkeys": {
    "equation": "Ctrl-E",
    "itemize": "Ctrl-I"
   },
   "labels_anchors": false,
   "latex_user_defs": false,
   "report_style_numbering": false,
   "user_envs_cfg": false
  }
 },
 "nbformat": 4,
 "nbformat_minor": 2
}
