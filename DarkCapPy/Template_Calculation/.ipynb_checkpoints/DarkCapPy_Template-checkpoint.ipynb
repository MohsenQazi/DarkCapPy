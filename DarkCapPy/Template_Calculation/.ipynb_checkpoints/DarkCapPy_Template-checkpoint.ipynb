{
 "cells": [
  {
   "cell_type": "markdown",
   "metadata": {},
   "source": [
    "# DarkCapPy Template\n",
    "\n",
    "Author: Adam Green\n",
    "\n",
    "Email : agree019@ucr.edu"
   ]
  },
  {
   "cell_type": "markdown",
   "metadata": {},
   "source": [
    "This notebook serves to provide a template to calculate the Earth capture scenario. "
   ]
  },
  {
   "cell_type": "markdown",
   "metadata": {},
   "source": [
    "## Imports and Initialization"
   ]
  },
  {
   "cell_type": "markdown",
   "metadata": {},
   "source": [
    "In this cell, we import all the libraries we need and define the paths to each data file. "
   ]
  },
  {
   "cell_type": "code",
   "execution_count": 1,
   "metadata": {
    "ExecuteTime": {
     "end_time": "2018-08-03T15:33:51.338256Z",
     "start_time": "2018-08-03T15:33:37.586773Z"
    }
   },
   "outputs": [
    {
     "name": "stdout",
     "output_type": "stream",
     "text": [
      "Dark Photon Module Imported\n",
      "Complete\n"
     ]
    }
   ],
   "source": [
    "import numpy as np\n",
    "import pandas as pd\n",
    "from scipy.interpolate import interpolate\n",
    "import matplotlib as mpl\n",
    "import matplotlib.pyplot as plt\n",
    "import matplotlib.style\n",
    "mpl.rcParams.update(mpl.rcParamsDefault)\n",
    "%matplotlib inline\n",
    "from datetime import datetime\n",
    "\n",
    "from DarkCapPy import *\n",
    "import DarkCapPy.DarkPhoton as DP\n",
    "\n",
    "# Define File Paths\n",
    "def sommerfeldPath(file):\n",
    "    path = 'Sommerfeld/' + file\n",
    "    return path\n",
    "\n",
    "def branchPath(file):\n",
    "    path = 'Branching_Ratio/' + file\n",
    "    return path\n",
    "\n",
    "def signalPath(file):\n",
    "    path = 'Signal/' + file\n",
    "    return path\n",
    "    \n",
    "def signalBackupPath(file):\n",
    "    path = 'Signal/Signal_Backups/' + file\n",
    "    return path\n",
    "\n",
    "print ('Complete')"
   ]
  },
  {
   "cell_type": "markdown",
   "metadata": {
    "collapsed": true
   },
   "source": [
    "# Generate the Sommerfeld File"
   ]
  },
  {
   "cell_type": "markdown",
   "metadata": {},
   "source": [
    "This section serves to create an external file which contains an arbitrary number of $m_A$ and $\\langle S_s \\rangle$ points to be interpolated later.\n",
    "\n",
    "The external file has the following column headers:\n",
    "\n",
    "    Counter, mX[GeV], mA[GeV], ThermAvgSommerfeld, Kappa0[GeV5]\n",
    "\n",
    "- Counter serves as an index to loop through\n",
    "- m_X is specified by the user shortly after the file is created \n",
    "- m_A is a list of numbers ranging from $0.01$ GeV to $10$ GeV with arbitrary spacing and density. Since these will each correspond to a $\\langle S_s \\rangle(m_A)$ to be interpolated later, it is suggested to use logarithmic spacing with a high density $(N\\geq2500)$\n",
    "- ThermAvgSommerfeld is the corresponding $\\langle S_s \\rangle(m_A)$ point\n",
    "\n"
   ]
  },
  {
   "cell_type": "markdown",
   "metadata": {
    "ExecuteTime": {
     "end_time": "2018-04-03T16:12:05.967601Z",
     "start_time": "2018-04-03T16:12:05.961053Z"
    }
   },
   "source": [
    "## Define Point Resolution"
   ]
  },
  {
   "cell_type": "markdown",
   "metadata": {},
   "source": [
    "This cell defines the resolution of the Sommerfeld enhancement. This number should be large ~2500 because it will be used to create an interpolation later on."
   ]
  },
  {
   "cell_type": "code",
   "execution_count": 2,
   "metadata": {
    "ExecuteTime": {
     "end_time": "2018-08-03T15:33:58.570209Z",
     "start_time": "2018-08-03T15:33:58.565222Z"
    },
    "collapsed": true
   },
   "outputs": [],
   "source": [
    "num = 2500"
   ]
  },
  {
   "cell_type": "markdown",
   "metadata": {},
   "source": [
    "## Initialize Paramter Arrays"
   ]
  },
  {
   "cell_type": "markdown",
   "metadata": {},
   "source": [
    "We assume the following range for $m_{A'}$:\n",
    "\n",
    "$$ 0.01 \\ \\text{GeV} \\leq m_{A'} \\leq 10 \\ \\text{GeV} $$\n",
    "\n",
    "This will use this range for the mediator mass for the rest of the calculations. "
   ]
  },
  {
   "cell_type": "code",
   "execution_count": 3,
   "metadata": {
    "ExecuteTime": {
     "end_time": "2018-08-03T15:34:05.004114Z",
     "start_time": "2018-08-03T15:34:04.994138Z"
    }
   },
   "outputs": [
    {
     "name": "stdout",
     "output_type": "stream",
     "text": [
      "Complete\n"
     ]
    }
   ],
   "source": [
    "mALogRange = np.logspace(-2, 1, num, base = 10)\n",
    "mAArray = []\n",
    "\n",
    "counter = 0\n",
    "for mATemp in mALogRange:\n",
    "                 #( Counter, m_X[GeV], m_A[Gev], ThermAvgSommerfeld, Kappa0[GeV5])\n",
    "    mAArray.append([counter, ' '     , mATemp  , 'None'            , ' '])\n",
    "    counter += 1\n",
    "\n",
    "print ('Complete')"
   ]
  },
  {
   "cell_type": "markdown",
   "metadata": {},
   "source": [
    "## Create and Write the DataFrame to a .csv"
   ]
  },
  {
   "cell_type": "markdown",
   "metadata": {},
   "source": [
    "Filenames should follow the convention:\n",
    "\n",
    "    <#><Unit>Sommerfeld.csv\n",
    "\n",
    "including the \".csv\" extension.\n",
    "\n",
    "For example, if $m_X = 100$ GeV,\n",
    "\n",
    "    100GeVSommerfeld.csv\n",
    "    \n",
    "You will also define the value for $m_X$ in this cell"
   ]
  },
  {
   "cell_type": "code",
   "execution_count": 4,
   "metadata": {
    "ExecuteTime": {
     "end_time": "2018-08-03T15:34:14.278745Z",
     "start_time": "2018-08-03T15:34:07.481913Z"
    }
   },
   "outputs": [
    {
     "name": "stdout",
     "output_type": "stream",
     "text": [
      "Sommerfeld Filename: testSomm.csv\n",
      "m_X [GeV]: 100\n",
      "Complete\n"
     ]
    }
   ],
   "source": [
    "masterSommerfeldDataFrame = \\\n",
    "    pd.DataFrame(mAArray,\\\n",
    "                 columns = \\\n",
    "                 ['Counter','mX[GeV]', 'mA[GeV]', 'ThermAvgSommerfeld', 'Kappa0[GeV5]'])\n",
    "\n",
    "sommFileName = input('Sommerfeld Filename: ')\n",
    "writeFile = sommerfeldPath(sommFileName)\n",
    "\n",
    "assert (sommFileName[-4:] == '.csv'), 'File must end with \".csv\"'\n",
    "\n",
    "\n",
    "masterSommerfeldDataFrame.to_csv(writeFile, index=False)\n",
    "dataFrame = pd.read_csv(writeFile , sep = ',')\n",
    "m_XValue = float(input('m_X [GeV]: '))\n",
    "kappa0Value = 'None'\n",
    "\n",
    "\n",
    "dataFrame.at[0, 'mX[GeV]'] = m_XValue\n",
    "dataFrame.at[0, 'Kappa0[GeV5]'] = kappa0Value\n",
    "\n",
    "dataFrame.to_csv(writeFile, index=False)\n",
    "\n",
    "\n",
    "print ('Complete')"
   ]
  },
  {
   "cell_type": "markdown",
   "metadata": {},
   "source": [
    "## Populating Sommerfeld.csv"
   ]
  },
  {
   "cell_type": "markdown",
   "metadata": {},
   "source": [
    "In this cell, we:\n",
    "\n",
    "1). Calculate $\\texttt{Kappa0[GeV5]}$\n",
    "\n",
    "2). Calculate the Sommerfeld enhancement $\\langle S_s \\rangle$ given each $m_A$ by iterating through the list of $m_A$ values \n",
    "\n",
    "After each iteration of calculations, the .csv is updated and overwritten, but there is a manual overwrite in the next cell just for good measure"
   ]
  },
  {
   "cell_type": "code",
   "execution_count": 35,
   "metadata": {
    "ExecuteTime": {
     "end_time": "2018-08-03T15:56:37.249729Z",
     "start_time": "2018-08-03T15:56:34.647074Z"
    },
    "scrolled": true
   },
   "outputs": [
    {
     "name": "stdout",
     "output_type": "stream",
     "text": [
      "Sommerfeld Filename: testSomm.csv\n",
      "Kappa0 value already calculated\n",
      "-------------------\n",
      "Starting Sommerfeld Calculations...\n",
      "-------------------\n",
      "All Calculations Complete\n",
      "Complete\n"
     ]
    }
   ],
   "source": [
    "sommFileName = input('Sommerfeld Filename: ')\n",
    "sommWriteFile = sommerfeldPath(sommFileName)\n",
    "sommDataIn = pd.read_csv(sommWriteFile,sep = ',')\n",
    "\n",
    "# Define the loop range\n",
    "looprange = len(sommDataIn['Counter'])\n",
    "\n",
    "# Read in m_X value\n",
    "Filem_X = float(sommDataIn.at[0,'mX[GeV]'])\n",
    "    \n",
    "##################################\n",
    "# Calculate Kappa0\n",
    "##################################\n",
    "testKappa0 = sommDataIn.at[0,'Kappa0[GeV5]']\n",
    "\n",
    "if (testKappa0 == 'None'):\n",
    "    print ('Calculating Kappa0...')\n",
    "    \n",
    "    kappa0Value = float(DP.kappa_0(Filem_X, 1./137))\n",
    "    \n",
    "    sommDataIn.at[0, 'Kappa0[GeV5]'] = kappa0Value\n",
    "    sommDataIn.to_csv(sommWriteFile, index=False)\n",
    "    print('Kappa0 value calculated and set')\n",
    "    \n",
    "elif (testKappa0 != 'None'):\n",
    "    print ('Kappa0 value already calculated')\n",
    "\n",
    "\n",
    "##################################\n",
    "# Calculate the Sommerfeld enhancements\n",
    "##################################\n",
    "\n",
    "finishedCounter = 0\n",
    "print ('-------------------')\n",
    "print ('Starting Sommerfeld Calculations...')\n",
    "for index in range(0,looprange):\n",
    "    ##################################\n",
    "    # Initialize Parameters\n",
    "    ##################################\n",
    "    m_AValue = sommDataIn.at[index,'mA[GeV]']\n",
    "    testSomm = sommDataIn.at[index,'ThermAvgSommerfeld']\n",
    "    \n",
    "    if (testSomm == 'None'):    \n",
    "        alpha_X = DP.alphaTherm(Filem_X, m_AValue)\n",
    "        thermAvgSomm = DP.thermAvgSommerfeld(Filem_X, m_AValue, alpha_X)\n",
    "\n",
    "        sommDataIn.at[index,'ThermAvgSommerfeld'] = thermAvgSomm\n",
    "        \n",
    "        finishedCounter +=1\n",
    "        if (index%20 == 0):\n",
    "            print ('Index: {0} recorded'.format(index))\n",
    "        \n",
    "    elif(testSomm != 'None'):\n",
    "        finishedCounter +=1\n",
    "        \n",
    "    if (finishedCounter == looprange):\n",
    "        print ('-------------------')\n",
    "        print ('All Calculations Complete')\n",
    "        \n",
    "    \n",
    "sommDataIn.to_csv(sommWriteFile, index=False)\n",
    "print ('Complete')"
   ]
  },
  {
   "cell_type": "markdown",
   "metadata": {},
   "source": [
    "### Manual Overwrite"
   ]
  },
  {
   "cell_type": "markdown",
   "metadata": {},
   "source": [
    "If you interrupt the previous cell, you MUST run this cell. Occassionally, if the interruption occurs during the `to_csv` command, the external .csv will be blank. However, the dataframe is still stored in Jupyter memory. This cell ensures that the dataframe in Jupyter memory gets written to an external .csv file."
   ]
  },
  {
   "cell_type": "code",
   "execution_count": 6,
   "metadata": {
    "ExecuteTime": {
     "end_time": "2018-08-03T15:35:42.539868Z",
     "start_time": "2018-08-03T15:35:40.412675Z"
    }
   },
   "outputs": [
    {
     "name": "stdout",
     "output_type": "stream",
     "text": [
      "Working Sommerfeld file: Sommerfeld/testSomm.csv\n",
      "Overwrite? (y/n): y\n",
      "Overwrite complete\n",
      "Complete\n"
     ]
    }
   ],
   "source": [
    "print ('Working Sommerfeld file: {0}'.format(sommWriteFile))\n",
    "\n",
    "overwrite = input('Overwrite? (y/n): ')\n",
    "if ((overwrite == 'y') or (overwrite == 'Y')):\n",
    "    sommDataIn.to_csv(sommWriteFile, index=False)\n",
    "    print ('Overwrite complete')\n",
    "    \n",
    "else:\n",
    "    print ('Overwrite aborted')\n",
    "\n",
    "\n",
    "print ('Complete')"
   ]
  },
  {
   "cell_type": "markdown",
   "metadata": {},
   "source": [
    "# Plot Sommerfeld Data"
   ]
  },
  {
   "cell_type": "markdown",
   "metadata": {},
   "source": [
    "The following section takes in a completed Sommerfeld file and plots the Sommerfeld enhancement versus mediator mass."
   ]
  },
  {
   "cell_type": "markdown",
   "metadata": {},
   "source": [
    "## Read in Sommerfeld Data"
   ]
  },
  {
   "cell_type": "markdown",
   "metadata": {},
   "source": [
    "In the following cell, the user inputs a completed Sommereld data file to be graphed."
   ]
  },
  {
   "cell_type": "code",
   "execution_count": 7,
   "metadata": {
    "ExecuteTime": {
     "end_time": "2018-08-03T15:35:51.242222Z",
     "start_time": "2018-08-03T15:35:48.662192Z"
    }
   },
   "outputs": [
    {
     "name": "stdout",
     "output_type": "stream",
     "text": [
      "Sommerfeld File: testSomm.csv\n",
      "Complete\n"
     ]
    }
   ],
   "source": [
    "sommFile = input('Sommerfeld File: ')\n",
    "readFile = sommerfeldPath(sommFile)\n",
    "\n",
    "dataIn = pd.read_csv(readFile, sep = ',')\n",
    "\n",
    "print ('Complete')"
   ]
  },
  {
   "cell_type": "markdown",
   "metadata": {},
   "source": [
    "## Plot Sommerfeld Data"
   ]
  },
  {
   "cell_type": "markdown",
   "metadata": {},
   "source": [
    "This cell:\n",
    "\n",
    "1). Extracts the 'mA' and 'ThermAvgSommerfeld' columns from the specified file\n",
    "\n",
    "2). Plots ThermAvgSommerfeld vs. mA\n",
    "\n",
    "If the Sommerfeld file isn't fully calculated, Python will throw an error. If the Sommerfeld file isn't complete, run the \"Calculate File Values\" cell again on the file in question."
   ]
  },
  {
   "cell_type": "code",
   "execution_count": 8,
   "metadata": {
    "ExecuteTime": {
     "end_time": "2018-08-03T15:35:53.562447Z",
     "start_time": "2018-08-03T15:35:52.531674Z"
    }
   },
   "outputs": [
    {
     "name": "stdout",
     "output_type": "stream",
     "text": [
      "Complete\n"
     ]
    },
    {
     "data": {
      "image/png": "[encoded data removed]",
      "text/plain": [
       "<matplotlib.figure.Figure at 0x23ff9f72390>"
      ]
     },
     "metadata": {},
     "output_type": "display_data"
    }
   ],
   "source": [
    "#####################\n",
    "# Extract Plot Data\n",
    "#####################\n",
    "mAList = dataIn['mA[GeV]']\n",
    "SommerfeldList = dataIn['ThermAvgSommerfeld']\n",
    "Filem_X = float(dataIn.loc[0,'mX[GeV]'])\n",
    "\n",
    "##################################\n",
    "# Determine the diplay Units of m_X \n",
    "##################################\n",
    "m_XUnit = 'None'\n",
    "if (Filem_X < 1000):\n",
    "    m_XDisplay = Filem_X\n",
    "    m_XUnit = 'GeV'\n",
    "\n",
    "if (Filem_X >= 1000):\n",
    "    m_XDisplay = Filem_X*10**-3\n",
    "    m_XUnit = 'TeV'\n",
    "\n",
    "#####################\n",
    "# Plot\n",
    "#####################\n",
    "fig = plt.figure(figsize = (6,6))\n",
    "Plot = plt.plot(np.log10(mAList),np.log10(SommerfeldList))\n",
    "plt.ylabel(r'$\\log( \\langle S_s \\rangle )$', fontsize = 14)\n",
    "plt.xlabel(r'$\\log( m_A ) [GeV]$', fontsize = 14)\n",
    "plt.suptitle('Sommerfeld Enhancement vs. $m_A$',fontsize = 16)\n",
    "plt.title(r'$m_X = {0}$ {1}'.format(m_XDisplay, m_XUnit),loc = 'right', fontsize = 14)\n",
    "plt.grid()\n",
    "\n",
    "print ('Complete')"
   ]
  },
  {
   "cell_type": "markdown",
   "metadata": {},
   "source": [
    "# Generating Equilibrium Plots"
   ]
  },
  {
   "cell_type": "markdown",
   "metadata": {},
   "source": [
    "## Read In Sommerfeld File"
   ]
  },
  {
   "cell_type": "markdown",
   "metadata": {},
   "source": [
    "The following cell reads in an external Sommerfeld file and interpolates the discrete set of $\\langle S_s (m_A) \\rangle$ into a continuous function. This interpolated function is what will be called during the calculation of the equilibrium time instead of calling the Sommerfeld function explicitly."
   ]
  },
  {
   "cell_type": "code",
   "execution_count": 36,
   "metadata": {
    "ExecuteTime": {
     "end_time": "2018-08-03T16:01:01.059846Z",
     "start_time": "2018-08-03T16:00:57.407404Z"
    }
   },
   "outputs": [
    {
     "name": "stdout",
     "output_type": "stream",
     "text": [
      "Sommerfeld Data File: testSomm.csv\n",
      "Input m_X: 100.0 GeV\n",
      "Compete\n"
     ]
    }
   ],
   "source": [
    "sommFileName = input('Sommerfeld Data File: ')\n",
    "sommFile = sommerfeldPath(sommFileName)\n",
    "\n",
    "dataIn = pd.read_csv(sommFile, sep = ',')\n",
    "\n",
    "Filem_X = float(dataIn.at[0,'mX[GeV]'])\n",
    "FileKappa0 = float(dataIn.at[0,'Kappa0[GeV5]'])\n",
    "\n",
    "###############################\n",
    "# Set the correct units for m_X\n",
    "###############################\n",
    "m_XUnit = 'None'\n",
    "\n",
    "if (Filem_X < 1000):\n",
    "    m_XDisplay = Filem_X\n",
    "    m_XUnit = 'GeV'\n",
    "\n",
    "if (Filem_X >= 1000):\n",
    "    m_XDisplay = Filem_X*10**-3\n",
    "    m_XUnit = 'TeV'\n",
    "    \n",
    "\n",
    "# Double Check to make sure the file name matches the read-in value\n",
    "print ('Input m_X: {0} GeV'.format(Filem_X))\n",
    "\n",
    "\n",
    "###############################\n",
    "# Interpolate Sommerfeld\n",
    "###############################\n",
    "maList = dataIn['mA[GeV]']\n",
    "sommerfeldList = dataIn['ThermAvgSommerfeld']\n",
    "SommerfeldInterp = interpolate.interp1d(maList, sommerfeldList)\n",
    "\n",
    "\n",
    "print ('Compete')"
   ]
  },
  {
   "cell_type": "markdown",
   "metadata": {},
   "source": [
    "## Initialize Contour Dictionary"
   ]
  },
  {
   "cell_type": "markdown",
   "metadata": {},
   "source": [
    "Enter 5 unique contour levels. Note that the contour lines you enter \"$\\mathrm{L}$\" correspond to a contour level of $\\frac{\\tau}{\\tau_{\\oplus}} = 10^\\mathrm{L}$.\n",
    "\n",
    "These values are stored as the keys to \"$\\texttt{contourDictionary}$.\" By default, the values of this dictionary are an array composed of two sub-arrays. The first sub-array will store the contour lines without Sommerfeld and the second sub-array will store the contour lines with Sommerfeld."
   ]
  },
  {
   "cell_type": "code",
   "execution_count": 37,
   "metadata": {
    "ExecuteTime": {
     "end_time": "2018-08-03T16:01:06.260027Z",
     "start_time": "2018-08-03T16:01:03.060409Z"
    },
    "scrolled": true
   },
   "outputs": [
    {
     "name": "stdout",
     "output_type": "stream",
     "text": [
      "Enter 5 countour lines in ascending or descending order: \n",
      "Contour Level 1: 0\n",
      "Contour Level 2: 1\n",
      "Contour Level 3: 2\n",
      "Contour Level 4: 3\n",
      "Contour Level 5: 4\n",
      "Complete\n"
     ]
    }
   ],
   "source": [
    "print ('Enter 5 countour lines in ascending or descending order: ')\n",
    "\n",
    "#contourDictionary = {key: value}\n",
    "# \"key\" is the actual contour level\n",
    "# \"value\" is an array of plot values: [[],[]] \n",
    "# The first array is Sommerfeld off, the second array is sommerfeld on.\n",
    "         \n",
    "contourDictionary={}\n",
    "for i in range(1,6):\n",
    "    key = (input('Contour Level {0}: '.format(i)))\n",
    "    type(float(key)) != type(float(0)) # This line ensures that the values entered are numeric\n",
    "    contourDictionary.update({'{0}'.format(key): [[],[]] } )\n",
    "    \n",
    "print ('Complete')"
   ]
  },
  {
   "cell_type": "markdown",
   "metadata": {
    "ExecuteTime": {
     "end_time": "2018-03-27T16:40:56.634659Z",
     "start_time": "2018-03-27T16:40:56.631623Z"
    }
   },
   "source": [
    "## Populate the Contour Dictionary"
   ]
  },
  {
   "cell_type": "markdown",
   "metadata": {},
   "source": [
    "The following cell populates `contourDictionary` with the contour values."
   ]
  },
  {
   "cell_type": "code",
   "execution_count": 38,
   "metadata": {
    "ExecuteTime": {
     "end_time": "2018-08-03T16:01:09.238751Z",
     "start_time": "2018-08-03T16:01:08.924173Z"
    }
   },
   "outputs": [
    {
     "name": "stdout",
     "output_type": "stream",
     "text": [
      "Complete\n"
     ]
    }
   ],
   "source": [
    "for key in contourDictionary:\n",
    "    contourDictionary[key] = [[],[]]\n",
    "\n",
    "##################\n",
    "# Initialize the x-axis\n",
    "# 0.01 GeV < m_A < 10 GeV\n",
    "##################\n",
    "maMin = min(maList)\n",
    "maMax = max(maList)\n",
    "\n",
    "maRange = np.logspace(np.log10(maMin), np.log10(maMax), 500, base = 10)\n",
    "\n",
    "##################\n",
    "# Populate contourDictionary with plot values\n",
    "##################\n",
    "maArray = []\n",
    "\n",
    "for maTemp in maRange:\n",
    "    maArray.append(maTemp)\n",
    "\n",
    "for key in contourDictionary:\n",
    "    contourline = float(key)\n",
    "    \n",
    "    for mATemp in maRange:\n",
    "        Alpha_X    = DP.alphaTherm(Filem_X, mATemp)\n",
    "        SigmaVTree = DP.sigmaVtree(Filem_X, mATemp, Alpha_X)\n",
    "        Sommerfeld = SommerfeldInterp(mATemp)\n",
    "        CannNoSomm = DP.cAnn(Filem_X, SigmaVTree)\n",
    "    \n",
    "        EpsilonNoSomm = DP.contourFunction(mATemp, Alpha_X, CannNoSomm, 1, FileKappa0, contourline)\n",
    "        EpsilonSomm   = DP.contourFunction(mATemp, Alpha_X, CannNoSomm, Sommerfeld, FileKappa0, contourline)\n",
    "    \n",
    "        contourDictionary[key][0].append(EpsilonNoSomm)\n",
    "        contourDictionary[key][1].append(EpsilonSomm)\n",
    "\n",
    "\n",
    "print ('Complete')"
   ]
  },
  {
   "cell_type": "markdown",
   "metadata": {},
   "source": [
    "## Equilibrium Time Plot Produciton"
   ]
  },
  {
   "cell_type": "markdown",
   "metadata": {},
   "source": [
    "The following cell produces a single plot of the equilibrium time. You may choose to turn the Sommerfeld enhancement \"on\" or \"off\" by following the prompt."
   ]
  },
  {
   "cell_type": "code",
   "execution_count": 40,
   "metadata": {
    "ExecuteTime": {
     "end_time": "2018-08-03T16:02:33.803849Z",
     "start_time": "2018-08-03T16:02:30.675404Z"
    },
    "scrolled": false
   },
   "outputs": [
    {
     "name": "stdout",
     "output_type": "stream",
     "text": [
      "Sommerfeld on? No:0 Yes:1 1\n"
     ]
    },
    {
     "data": {
      "image/png": "[encoded data removed]",
      "text/plain": [
       "<matplotlib.figure.Figure at 0x23f808d2780>"
      ]
     },
     "metadata": {},
     "output_type": "display_data"
    },
    {
     "name": "stdout",
     "output_type": "stream",
     "text": [
      "Complete\n"
     ]
    }
   ],
   "source": [
    "# Define custom Color scheme\n",
    "colorScheme1 = mpl.cycler(color=['#c7c47e','#94ab72','#428583','#40379f','#3d0b7e']) \n",
    "\n",
    "fig1 = plt.figure(figsize = (6,6))\n",
    "\n",
    "sommParam = int(input('Sommerfeld on? No:0 Yes:1 '))\n",
    "assert ((sommParam == 0) or (sommParam == 1)), 'Invalid Input, must be 0 or 1.'\n",
    "\n",
    "\n",
    "########################################\n",
    "# This uses a custom color scheme defined in Masterfunctions_Graphing\n",
    "########################################\n",
    "colors = colorScheme1\n",
    "mpl.rcParams['axes.prop_cycle'] = colors\n",
    "\n",
    "########################################\n",
    "# Produce the contour lines\n",
    "########################################\n",
    "testFill = False\n",
    "for key in contourDictionary:\n",
    "    if (float(key) == 0):\n",
    "        testFill = True\n",
    "    assert (len(maRange) == len(contourDictionary[key][sommParam])), 'ContourDictionary is probably not populated'\n",
    "    plt.plot(np.log10(maRange), (contourDictionary[key][sommParam]), label = r'10^{0}'.format(key))\n",
    "    \n",
    "    \n",
    "\n",
    "########################################  \n",
    "# Shade the valid region of parameter space   \n",
    "########################################\n",
    "if (testFill == True):\n",
    "    xs = np.log10(maArray)\n",
    "    y1 = contourDictionary['0'][sommParam]\n",
    "    plt.fill_between(xs, y1, -5, color = '#E6FDFF')\n",
    "\n",
    "########################################\n",
    "# Define plot label stuff\n",
    "########################################\n",
    "plt.legend(loc = 'lower right', fontsize = 12)\n",
    "plt.xlabel(r\"$\\log(m_{A'})$ $[GeV]$\", fontsize = 14)\n",
    "plt.ylabel(r'$\\log(\\varepsilon)$', fontsize = 14)\n",
    "\n",
    "plt.title(r'$m_X = {0}$ {1}'.format(m_XDisplay, m_XUnit),\\\n",
    "          fontsize = 16,\\\n",
    "          loc = 'right')\n",
    "\n",
    "plt.title(r'$\\tau/\\tau_{\\oplus}$ Contours',\\\n",
    "          fontsize = 16,\\\n",
    "          loc = 'left')\n",
    "plt.axis([np.log10(min(maRange)),np.log10(max(maRange)),-10,-5])\n",
    "plt.grid()\n",
    "plt.show()\n",
    "\n",
    "print ('Complete')"
   ]
  },
  {
   "cell_type": "markdown",
   "metadata": {},
   "source": [
    "### Save Figure"
   ]
  },
  {
   "cell_type": "code",
   "execution_count": 15,
   "metadata": {
    "ExecuteTime": {
     "end_time": "2018-08-03T15:36:55.145073Z",
     "start_time": "2018-08-03T15:36:46.983868Z"
    }
   },
   "outputs": [
    {
     "name": "stdout",
     "output_type": "stream",
     "text": [
      "Figure Name: testEqPlot.png\n",
      "Complete\n"
     ]
    }
   ],
   "source": [
    "filename = input('Figure Name: ')\n",
    "assert (filename != ''), 'No Filename'\n",
    "fig1.savefig(filename, dpi = 700)\n",
    "\n",
    "print ('Complete')"
   ]
  },
  {
   "cell_type": "markdown",
   "metadata": {},
   "source": [
    "# Generating IceCube Signal Plots"
   ]
  },
  {
   "cell_type": "markdown",
   "metadata": {},
   "source": [
    "### Recipie"
   ]
  },
  {
   "cell_type": "markdown",
   "metadata": {},
   "source": [
    "The recipie for generating the Signal File is:\n",
    "\n",
    "1). Define the resolution of the signal plot\n",
    "\n",
    "2). Check this resolution by reading in a Sommerfeld file and Branching Ratio file\n",
    " \n",
    "3). Initialize a template dataframe to hold the calculated signal rate data\n",
    "\n",
    "3). Write that dataframe to an external .csv file (signalData.csv)\n",
    "\n",
    "4). Append values from the Sommerfeld and Branching Ratio file to signalData.csv\n",
    "\n",
    "5). Loop through signalData.csv, calculate $C_{Cap}$, $C_{Ann}$, $\\Gamma_{Ann}$, and $N_{Sig}$, append them to signalData.csv\n",
    "\n",
    "Step five can be quite lengthy depending on the desired resolution of the data points. Typically, one would begin these calculations and be forced to wait until they are completed in their entirety; perhaps unable to shut down their machine for hours at a time. The cell \"Signal File Calculations\" however can be interrupted at any time, and resumed later. This allows the user to run the calculation in multiple stages instead of dedicating a large chunk of time and running the calculation all at once. \n",
    "The calculation can be stopped by interrupting the Jupyter Kernel. Be sure to run the \"Manual Overwrite\" cell just to be sure that the calculations are saved."
   ]
  },
  {
   "cell_type": "markdown",
   "metadata": {},
   "source": [
    "## Initialize Signal.csv"
   ]
  },
  {
   "cell_type": "markdown",
   "metadata": {},
   "source": [
    "### Define the Resolution of the Signal Plot"
   ]
  },
  {
   "cell_type": "markdown",
   "metadata": {},
   "source": [
    "These cells create the \"grid\" of data points for which $N_{\\text{sig} }$ will be calculated.\n",
    "\n",
    "This cell initializes the resolution of the interpolations for the Sommerfeld enhancement and the reach plot. The variable $\\texttt{num}$ defines the resolution of the grid, so if $\\texttt{num} = 50$, the reach plot will have a $50 \\times 50$ resolution for a total of 2500 calculations. The suggested resolution is \n",
    "\n",
    "    num = 200\n",
    "    \n",
    "A way to understand what this number does: \"The cleaner your Sommerfeld interpolation, the cleaner your reach plots will be.\" Making this number larger will increase the resolution of the interpolation, cleaning up the plots, but it will take longer to calculate. \n",
    "\n",
    "A good rule of thumb: Your reach plot resolution will be determined by the resolution of the Sommerfeld Interpolation; so if the Sommerfeld interpolation is jagged, the reach poot will also be jagged."
   ]
  },
  {
   "cell_type": "code",
   "execution_count": 16,
   "metadata": {
    "ExecuteTime": {
     "end_time": "2018-08-03T15:37:10.552548Z",
     "start_time": "2018-08-03T15:37:10.546564Z"
    }
   },
   "outputs": [
    {
     "name": "stdout",
     "output_type": "stream",
     "text": [
      "Complete\n"
     ]
    }
   ],
   "source": [
    "num = 200\n",
    "\n",
    "print ('Complete')"
   ]
  },
  {
   "cell_type": "markdown",
   "metadata": {},
   "source": [
    "### External File Interpolations"
   ]
  },
  {
   "cell_type": "markdown",
   "metadata": {},
   "source": [
    "The following cells read in and create interpolations of the:\n",
    "\n",
    "1). Sommerfeld Enhancement\n",
    "\n",
    "2). Branching ratio\n",
    "\n",
    "\n",
    "The file names for both these files will be written to the $\\texttt{signalData.csv}$ file. The reasoning behind this is continuity of the calculation. If you run this notebook from top to bottom, you can calculate everything in one go. However, if you interrup the main calculation cell and restart your computer, all of the vairables we have loaded into Jupyter memory get wiped. Writing these file names into the signalData.csv file means that to resume the calculation, you only need to run the main calculation cell as opposed to loading variables into Jupyter memory before starting the main calculation"
   ]
  },
  {
   "cell_type": "markdown",
   "metadata": {},
   "source": [
    "#### Sommerfeld Data Interpolation"
   ]
  },
  {
   "cell_type": "markdown",
   "metadata": {},
   "source": [
    "This interpolation only serves to give you an idea of the resolution of the reach plot. We will read this in and interpolate it again later in the actual calulation. The intention here is to adjust the `num` variable until a desired resolution is reached."
   ]
  },
  {
   "cell_type": "code",
   "execution_count": 18,
   "metadata": {
    "ExecuteTime": {
     "end_time": "2018-08-03T15:37:36.327058Z",
     "start_time": "2018-08-03T15:37:34.390545Z"
    }
   },
   "outputs": [
    {
     "name": "stdout",
     "output_type": "stream",
     "text": [
      "Sommerfeld File: testSomm.csv\n",
      "Complete\n"
     ]
    }
   ],
   "source": [
    "####################################\n",
    "# Define Sommerfeld and Signal Files\n",
    "####################################\n",
    "SommFileName = input('Sommerfeld File: ')\n",
    "SommFile = pd.read_csv(sommerfeldPath(SommFileName))\n",
    "\n",
    "print ('Complete')"
   ]
  },
  {
   "cell_type": "markdown",
   "metadata": {
    "ExecuteTime": {
     "end_time": "2018-07-28T19:14:45.907374Z",
     "start_time": "2018-07-28T19:14:45.902383Z"
    }
   },
   "source": [
    "#### Plot Interpolation vs Original data"
   ]
  },
  {
   "cell_type": "code",
   "execution_count": 20,
   "metadata": {
    "ExecuteTime": {
     "end_time": "2018-08-03T15:37:52.180180Z",
     "start_time": "2018-08-03T15:37:51.662565Z"
    }
   },
   "outputs": [
    {
     "name": "stdout",
     "output_type": "stream",
     "text": [
      "Complete\n"
     ]
    },
    {
     "data": {
      "image/png": "[encoded data removed]",
      "text/plain": [
       "<matplotlib.figure.Figure at 0x23ffde7dcf8>"
      ]
     },
     "metadata": {},
     "output_type": "display_data"
    }
   ],
   "source": [
    "\n",
    "####################################\n",
    "# Interpolate Sommerfeld data\n",
    "####################################\n",
    "mAData = SommFile['mA[GeV]']\n",
    "SommData = SommFile['ThermAvgSommerfeld']\n",
    "SommInterp = interpolate.interp1d(mAData,SommData)\n",
    "\n",
    "####################################\n",
    "# Create Comparison Plots\n",
    "####################################\n",
    "m_XSommerfeld = SommFile.loc[0,'mX[GeV]']\n",
    "kappa0Sommerfeld = SommFile.loc[0,'Kappa0[GeV5]']\n",
    "\n",
    "\n",
    "vect1 = [] # To store m_A values\n",
    "vect2 = [] # To store Sommerfeld values\n",
    "for ma in np.logspace(np.log10(min(mAData)),np.log10(max(mAData)), num, base = 10):\n",
    "    vect1.append(ma)\n",
    "    vect2.append(SommInterp(ma))\n",
    "        \n",
    "        \n",
    "\n",
    "fig1 = plt.figure(figsize = (14,6))\n",
    "plt.suptitle('Comparison of Sommerfeld Resolutions', fontsize = 18)\n",
    "\n",
    "ax1 = fig1.add_subplot(1,2,1)\n",
    "ax1.plot(np.log10(vect1),np.log10(vect2))\n",
    "ax1.set_xlabel(r\"$\\log(m_{A'})$ [GeV]\", fontsize = 14)\n",
    "ax1.set_ylabel(r\"$\\log(\\langle S_S \\rangle)$\", fontsize = 14)\n",
    "ax1.set_title('num = {0} Resolution'.format(num), fontsize = 14, loc = 'right')\n",
    "plt.grid()\n",
    "\n",
    "ax2 = fig1.add_subplot(1,2,2)\n",
    "ax2.plot(np.log10(mAData), np.log10(SommData))\n",
    "ax2.set_xlabel(r\"$\\log(m_{A'})$ [GeV]\", fontsize = 14)\n",
    "ax2.set_ylabel(r\"$\\log(\\langle S_S \\rangle)$\", fontsize = 14)\n",
    "ax2.set_title('num = 2500 Resolution', fontsize = 14, loc = 'right')\n",
    "plt.grid()\n",
    "\n",
    "\n",
    "print ('Complete')"
   ]
  },
  {
   "cell_type": "markdown",
   "metadata": {},
   "source": [
    "#### Branching Ratio Interpolation"
   ]
  },
  {
   "cell_type": "markdown",
   "metadata": {},
   "source": [
    "In this cell, we read in a .csv file containing discrete branching ratio data points obtained from WebPlotDigitizer and interpolate them into a continuous funciton named `branchRatioInterp`.\n",
    "\n",
    "The interpolation of this file is indeendent of the resolution chosen for `num` above. Hence, the resolution for this interpolation is fixed by the number of data points given in the branching ratio .csv file. For the process $A' \\rightarrow e^+ e^-$, there are 176 data points, so the interpolation uses all 176 points. "
   ]
  },
  {
   "cell_type": "code",
   "execution_count": 30,
   "metadata": {
    "ExecuteTime": {
     "end_time": "2018-08-03T15:41:16.641815Z",
     "start_time": "2018-08-03T15:41:14.460903Z"
    }
   },
   "outputs": [
    {
     "name": "stdout",
     "output_type": "stream",
     "text": [
      "Branching File: brtoe.csv\n",
      "Complete\n"
     ]
    },
    {
     "data": {
      "image/png": "[encoded data removed]",
      "text/plain": [
       "<matplotlib.figure.Figure at 0x23ffda4c6d8>"
      ]
     },
     "metadata": {},
     "output_type": "display_data"
    }
   ],
   "source": [
    "branchFile = (input('Branching File: '))\n",
    "\n",
    "branchDataIn = pd.read_csv(branchPath(branchFile))\n",
    "\n",
    "xListBranch = branchDataIn['mA[GeV]']\n",
    "yListBranch = branchDataIn['BR']\n",
    "\n",
    "branchRatioInterp = interpolate.interp1d(xListBranch,yListBranch)\n",
    "\n",
    "fig = plt.figure(figsize = (6,6))\n",
    "plt.plot(xListBranch,yListBranch)\n",
    "plt.xlabel(r\"$m_{A'}$ [GeV]\", fontsize = 14)\n",
    "plt.ylabel(r\"Branching Ratio\", fontsize = 14)\n",
    "plt.suptitle('Branching Ratio Interpolation Visualization', fontsize = 16)\n",
    "plt.title('num = {0}'.format(len(xListBranch)), fontsize = 14, loc = 'right')\n",
    "plt.grid()\n",
    "\n",
    "\n",
    "print ('Complete')"
   ]
  },
  {
   "cell_type": "markdown",
   "metadata": {
    "ExecuteTime": {
     "end_time": "2018-03-22T20:51:09.799117Z",
     "start_time": "2018-03-22T20:51:09.787988Z"
    }
   },
   "source": [
    "### Initialize Signal Dataframe"
   ]
  },
  {
   "cell_type": "markdown",
   "metadata": {},
   "source": [
    "This cell:\n",
    "\n",
    "1) Initializes the signal data frame\n",
    "\n",
    "2) Appends the $\\varepsilon$ and $m_{A'}$ data points based on the resolution dictated by the variable $\\texttt{num}$. By default, the range for mediator mass and kinetic mixing are dictated by the range of $m_{A'}$ in the Sommerfld file, and $10^{-11} \\leq \\varepsilon \\leq 10^{-5}$. To change the range of $\\varepsilon$, adjust the arguments of the variable `epsilonLogRange`.\n",
    "\n",
    "3) Appends the column headers to the data frame"
   ]
  },
  {
   "cell_type": "code",
   "execution_count": 22,
   "metadata": {
    "ExecuteTime": {
     "end_time": "2018-08-03T15:38:38.058272Z",
     "start_time": "2018-08-03T15:38:37.919641Z"
    }
   },
   "outputs": [
    {
     "name": "stdout",
     "output_type": "stream",
     "text": [
      "Complete\n"
     ]
    }
   ],
   "source": [
    "#########################################\n",
    "# Define parameter space Ranges\n",
    "#########################################\n",
    "# Logarithmic Spacing because we plot this in log-log space\n",
    "# 0.01 GeV < mA < 10 GeV\n",
    "# 10^-11 < Epsilon < 10^-5\n",
    "\n",
    "maMin = (min(mAData))\n",
    "maMax = (max(mAData))\n",
    "\n",
    "mALogRange = np.logspace(np.log10(maMin), np.log10(maMax), num, base = 10)\n",
    "epsilonLogRange = np.logspace(-11, -5, num, base = 10)\n",
    "\n",
    "#########################################\n",
    "# Initialize Master Arrays\n",
    "#########################################\n",
    "masterSignalArray = []\n",
    "\n",
    "#########################################\n",
    "# Populate the Master Arrays with the column headers and 'None' Cells\n",
    "#########################################\n",
    "counter = 0\n",
    "for mATemp in mALogRange:\n",
    "    for epsilonTemp in epsilonLogRange:\n",
    "        masterSignalArray.append([counter, ' ', mATemp, epsilonTemp, \\\n",
    "                                  'None', 'None', 'None', 'None', \\\n",
    "                                  ' ', ' ',' ', ' '])\n",
    "        counter +=1\n",
    "#########################################\n",
    "# Create a PANDAS DataFrame from the Master Arrays\n",
    "#########################################\n",
    "masterSignalDataframe = pd.DataFrame(data = masterSignalArray, \\\n",
    "    columns=['Counter', 'mX[GeV]', 'mA[GeV]', 'Epsilon',\\\n",
    "             'Capture[s-1]', 'Annihilation[s-1]', 'GammaAnn[s-1]', 'IceCubeSignal', \\\n",
    "             'SommerfeldFile', 'BranchingRatioFile','Resolution','Kappa0[GeV5]'])\n",
    "\n",
    "print ('Complete')"
   ]
  },
  {
   "cell_type": "markdown",
   "metadata": {},
   "source": [
    "### Write to External .csv File"
   ]
  },
  {
   "cell_type": "markdown",
   "metadata": {
    "ExecuteTime": {
     "end_time": "2018-03-22T20:57:01.532084Z",
     "start_time": "2018-03-22T20:57:01.522605Z"
    }
   },
   "source": [
    "This cell writes the signal data frame to an external csv file."
   ]
  },
  {
   "cell_type": "code",
   "execution_count": 41,
   "metadata": {
    "ExecuteTime": {
     "end_time": "2018-08-03T16:11:40.824343Z",
     "start_time": "2018-08-03T16:11:30.492736Z"
    }
   },
   "outputs": [
    {
     "name": "stdout",
     "output_type": "stream",
     "text": [
      "Signal Rate filename: testSignal.csv\n",
      "--------------------\n",
      "You are about to commit the following to testSignal.csv\n",
      "mX[GeV]             : 100.0\n",
      "Kappa0[GeV5]        : 5.851659530104901e+27\n",
      "Sommerfeld File     : testSomm.csv\n",
      "Branching Ratio File: brtoe.csv\n",
      "Resolution          : 200\n",
      "\n",
      "Commit to testSignal.csv.csv? (y/n) y\n",
      "Commit Executed\n",
      "Complete\n"
     ]
    }
   ],
   "source": [
    "signalFileName = input('Signal Rate filename: ')\n",
    "signalFile = signalPath(signalFileName)\n",
    "assert (signalFileName[-4:] == '.csv'), 'Must inclue \".csv\" in the file name'\n",
    "\n",
    "#############################\n",
    "# Double check that these values are correct\n",
    "#############################\n",
    "print ('--------------------')\n",
    "print ('You are about to write the following to {0}'.format(signalFileName))\n",
    "print ('mX[GeV]             : {0}'.format(m_XSommerfeld))\n",
    "print ('Kappa0[GeV5]        : {0}'.format(kappa0Sommerfeld))\n",
    "print ('Sommerfeld File     : {0}'.format(SommFileName))\n",
    "print ('Branching Ratio File: {0}'.format(branchFile))\n",
    "print ('Resolution          : {0}'.format(num))\n",
    "print ()\n",
    "\n",
    "yesNo = input ('Write to {0}.csv? (y/n) '.format(signalFileName))\n",
    "assert (yesNo == 'y' or yesNo == 'n'), 'Invalid input, must be \"y\" or \"n.\"'\n",
    "\n",
    "if ((yesNo == 'y') or (yesNo == 'Y')):\n",
    "    kappa0Value = 'None'\n",
    "    m_XValue = 'None'\n",
    "    \n",
    "    masterSignalDataframe.at[0, 'mX[GeV]']            = m_XSommerfeld\n",
    "    masterSignalDataframe.at[0, 'Kappa0[GeV5]']       = kappa0Sommerfeld\n",
    "    masterSignalDataframe.at[0, 'SommerfeldFile']     = SommFileName\n",
    "    masterSignalDataframe.at[0, 'BranchingRatioFile'] = branchFile\n",
    "    masterSignalDataframe.at[0, 'Resolution']         = num\n",
    "\n",
    "    masterSignalDataframe.to_csv(signalFile, index=False)\n",
    "    \n",
    "    print ('Write executed')\n",
    "    \n",
    "else:\n",
    "    print ('Write aborted')\n",
    "\n",
    "print ('Complete')"
   ]
  },
  {
   "cell_type": "markdown",
   "metadata": {},
   "source": [
    "----------------------"
   ]
  },
  {
   "cell_type": "markdown",
   "metadata": {},
   "source": [
    "Run these two cells onces you have a working signalData.csv file and you want to either start or resume calculations."
   ]
  },
  {
   "cell_type": "markdown",
   "metadata": {},
   "source": [
    "## Signal.csv Calculations"
   ]
  },
  {
   "cell_type": "markdown",
   "metadata": {},
   "source": [
    "This cell scans through all the lines of signalData.csv file and calculates:\n",
    "\n",
    "1). Capture\n",
    "\n",
    "2). Annihilation\n",
    "\n",
    "3). GammaAnn\n",
    "\n",
    "4). Signal\n",
    "\n",
    "As mentioned previously, this cell may be stopped, by interrupting the kernel, at any time and resumed later."
   ]
  },
  {
   "cell_type": "code",
   "execution_count": 42,
   "metadata": {
    "ExecuteTime": {
     "end_time": "2018-08-03T16:20:55.918276Z",
     "start_time": "2018-08-03T16:17:30.560154Z"
    },
    "scrolled": true
   },
   "outputs": [
    {
     "name": "stdout",
     "output_type": "stream",
     "text": [
      "Signal Rate File: testSignal.csv\n",
      "Backup Created\n",
      "\n",
      "--------------------\n",
      "Calculations for index: 0 recorded\n",
      "Calculations for index: 20 recorded\n",
      "Calculations for index: 40 recorded\n",
      "Calculations for index: 60 recorded\n",
      "Calculations for index: 80 recorded\n",
      "Calculations for index: 100 recorded\n",
      "Calculations for index: 120 recorded\n",
      "Calculations for index: 140 recorded\n",
      "Calculations for index: 160 recorded\n",
      "Calculations for index: 180 recorded\n"
     ]
    },
    {
     "ename": "KeyboardInterrupt",
     "evalue": "",
     "output_type": "error",
     "traceback": [
      "\u001b[1;31m---------------------------------------------------------------------------\u001b[0m",
      "\u001b[1;31mKeyboardInterrupt\u001b[0m                         Traceback (most recent call last)",
      "\u001b[1;32m<ipython-input-42-78130b8f1eba>\u001b[0m in \u001b[0;36m<module>\u001b[1;34m()\u001b[0m\n\u001b[0;32m     91\u001b[0m         \u001b[1;31m# Overwrite SignalFile.csv\u001b[0m\u001b[1;33m\u001b[0m\u001b[1;33m\u001b[0m\u001b[0m\n\u001b[0;32m     92\u001b[0m         \u001b[1;31m#########################################\u001b[0m\u001b[1;33m\u001b[0m\u001b[1;33m\u001b[0m\u001b[0m\n\u001b[1;32m---> 93\u001b[1;33m         \u001b[0msignalDataIn\u001b[0m\u001b[1;33m.\u001b[0m\u001b[0mto_csv\u001b[0m\u001b[1;33m(\u001b[0m\u001b[0msignalFile\u001b[0m\u001b[1;33m,\u001b[0m \u001b[0msep\u001b[0m\u001b[1;33m=\u001b[0m\u001b[1;34m','\u001b[0m\u001b[1;33m,\u001b[0m\u001b[0mindex\u001b[0m\u001b[1;33m=\u001b[0m\u001b[1;32mFalse\u001b[0m\u001b[1;33m)\u001b[0m\u001b[1;33m\u001b[0m\u001b[0m\n\u001b[0m\u001b[0;32m     94\u001b[0m         \u001b[0mfinishedCounter\u001b[0m \u001b[1;33m+=\u001b[0m \u001b[1;36m1\u001b[0m\u001b[1;33m\u001b[0m\u001b[0m\n\u001b[0;32m     95\u001b[0m \u001b[1;33m\u001b[0m\u001b[0m\n",
      "\u001b[1;32mC:\\Users\\Adam Green\\Anaconda3\\lib\\site-packages\\pandas\\core\\frame.py\u001b[0m in \u001b[0;36mto_csv\u001b[1;34m(self, path_or_buf, sep, na_rep, float_format, columns, header, index, index_label, mode, encoding, compression, quoting, quotechar, line_terminator, chunksize, tupleize_cols, date_format, doublequote, escapechar, decimal)\u001b[0m\n\u001b[0;32m   1522\u001b[0m                                      \u001b[0mdoublequote\u001b[0m\u001b[1;33m=\u001b[0m\u001b[0mdoublequote\u001b[0m\u001b[1;33m,\u001b[0m\u001b[1;33m\u001b[0m\u001b[0m\n\u001b[0;32m   1523\u001b[0m                                      escapechar=escapechar, decimal=decimal)\n\u001b[1;32m-> 1524\u001b[1;33m         \u001b[0mformatter\u001b[0m\u001b[1;33m.\u001b[0m\u001b[0msave\u001b[0m\u001b[1;33m(\u001b[0m\u001b[1;33m)\u001b[0m\u001b[1;33m\u001b[0m\u001b[0m\n\u001b[0m\u001b[0;32m   1525\u001b[0m \u001b[1;33m\u001b[0m\u001b[0m\n\u001b[0;32m   1526\u001b[0m         \u001b[1;32mif\u001b[0m \u001b[0mpath_or_buf\u001b[0m \u001b[1;32mis\u001b[0m \u001b[1;32mNone\u001b[0m\u001b[1;33m:\u001b[0m\u001b[1;33m\u001b[0m\u001b[0m\n",
      "\u001b[1;32mC:\\Users\\Adam Green\\Anaconda3\\lib\\site-packages\\pandas\\io\\formats\\format.py\u001b[0m in \u001b[0;36msave\u001b[1;34m(self)\u001b[0m\n\u001b[0;32m   1650\u001b[0m                 \u001b[0mself\u001b[0m\u001b[1;33m.\u001b[0m\u001b[0mwriter\u001b[0m \u001b[1;33m=\u001b[0m \u001b[0mUnicodeWriter\u001b[0m\u001b[1;33m(\u001b[0m\u001b[0mf\u001b[0m\u001b[1;33m,\u001b[0m \u001b[1;33m**\u001b[0m\u001b[0mwriter_kwargs\u001b[0m\u001b[1;33m)\u001b[0m\u001b[1;33m\u001b[0m\u001b[0m\n\u001b[0;32m   1651\u001b[0m \u001b[1;33m\u001b[0m\u001b[0m\n\u001b[1;32m-> 1652\u001b[1;33m             \u001b[0mself\u001b[0m\u001b[1;33m.\u001b[0m\u001b[0m_save\u001b[0m\u001b[1;33m(\u001b[0m\u001b[1;33m)\u001b[0m\u001b[1;33m\u001b[0m\u001b[0m\n\u001b[0m\u001b[0;32m   1653\u001b[0m \u001b[1;33m\u001b[0m\u001b[0m\n\u001b[0;32m   1654\u001b[0m         \u001b[1;32mfinally\u001b[0m\u001b[1;33m:\u001b[0m\u001b[1;33m\u001b[0m\u001b[0m\n",
      "\u001b[1;32mC:\\Users\\Adam Green\\Anaconda3\\lib\\site-packages\\pandas\\io\\formats\\format.py\u001b[0m in \u001b[0;36m_save\u001b[1;34m(self)\u001b[0m\n\u001b[0;32m   1752\u001b[0m                 \u001b[1;32mbreak\u001b[0m\u001b[1;33m\u001b[0m\u001b[0m\n\u001b[0;32m   1753\u001b[0m \u001b[1;33m\u001b[0m\u001b[0m\n\u001b[1;32m-> 1754\u001b[1;33m             \u001b[0mself\u001b[0m\u001b[1;33m.\u001b[0m\u001b[0m_save_chunk\u001b[0m\u001b[1;33m(\u001b[0m\u001b[0mstart_i\u001b[0m\u001b[1;33m,\u001b[0m \u001b[0mend_i\u001b[0m\u001b[1;33m)\u001b[0m\u001b[1;33m\u001b[0m\u001b[0m\n\u001b[0m\u001b[0;32m   1755\u001b[0m \u001b[1;33m\u001b[0m\u001b[0m\n\u001b[0;32m   1756\u001b[0m     \u001b[1;32mdef\u001b[0m \u001b[0m_save_chunk\u001b[0m\u001b[1;33m(\u001b[0m\u001b[0mself\u001b[0m\u001b[1;33m,\u001b[0m \u001b[0mstart_i\u001b[0m\u001b[1;33m,\u001b[0m \u001b[0mend_i\u001b[0m\u001b[1;33m)\u001b[0m\u001b[1;33m:\u001b[0m\u001b[1;33m\u001b[0m\u001b[0m\n",
      "\u001b[1;32mC:\\Users\\Adam Green\\Anaconda3\\lib\\site-packages\\pandas\\io\\formats\\format.py\u001b[0m in \u001b[0;36m_save_chunk\u001b[1;34m(self, start_i, end_i)\u001b[0m\n\u001b[0;32m   1766\u001b[0m                                   \u001b[0mdecimal\u001b[0m\u001b[1;33m=\u001b[0m\u001b[0mself\u001b[0m\u001b[1;33m.\u001b[0m\u001b[0mdecimal\u001b[0m\u001b[1;33m,\u001b[0m\u001b[1;33m\u001b[0m\u001b[0m\n\u001b[0;32m   1767\u001b[0m                                   \u001b[0mdate_format\u001b[0m\u001b[1;33m=\u001b[0m\u001b[0mself\u001b[0m\u001b[1;33m.\u001b[0m\u001b[0mdate_format\u001b[0m\u001b[1;33m,\u001b[0m\u001b[1;33m\u001b[0m\u001b[0m\n\u001b[1;32m-> 1768\u001b[1;33m                                   quoting=self.quoting)\n\u001b[0m\u001b[0;32m   1769\u001b[0m \u001b[1;33m\u001b[0m\u001b[0m\n\u001b[0;32m   1770\u001b[0m             \u001b[1;32mfor\u001b[0m \u001b[0mcol_loc\u001b[0m\u001b[1;33m,\u001b[0m \u001b[0mcol\u001b[0m \u001b[1;32min\u001b[0m \u001b[0mzip\u001b[0m\u001b[1;33m(\u001b[0m\u001b[0mb\u001b[0m\u001b[1;33m.\u001b[0m\u001b[0mmgr_locs\u001b[0m\u001b[1;33m,\u001b[0m \u001b[0md\u001b[0m\u001b[1;33m)\u001b[0m\u001b[1;33m:\u001b[0m\u001b[1;33m\u001b[0m\u001b[0m\n",
      "\u001b[1;32mC:\\Users\\Adam Green\\Anaconda3\\lib\\site-packages\\pandas\\core\\internals.py\u001b[0m in \u001b[0;36mto_native_types\u001b[1;34m(self, slicer, na_rep, float_format, decimal, quoting, **kwargs)\u001b[0m\n\u001b[0;32m   1863\u001b[0m                 \u001b[0mvalues\u001b[0m \u001b[1;33m=\u001b[0m \u001b[0mnp\u001b[0m\u001b[1;33m.\u001b[0m\u001b[0marray\u001b[0m\u001b[1;33m(\u001b[0m\u001b[0mvalues\u001b[0m\u001b[1;33m,\u001b[0m \u001b[0mdtype\u001b[0m\u001b[1;33m=\u001b[0m\u001b[1;34m'object'\u001b[0m\u001b[1;33m)\u001b[0m\u001b[1;33m\u001b[0m\u001b[0m\n\u001b[0;32m   1864\u001b[0m \u001b[1;33m\u001b[0m\u001b[0m\n\u001b[1;32m-> 1865\u001b[1;33m             \u001b[0mvalues\u001b[0m\u001b[1;33m[\u001b[0m\u001b[0mmask\u001b[0m\u001b[1;33m]\u001b[0m \u001b[1;33m=\u001b[0m \u001b[0mna_rep\u001b[0m\u001b[1;33m\u001b[0m\u001b[0m\n\u001b[0m\u001b[0;32m   1866\u001b[0m             \u001b[1;32mreturn\u001b[0m \u001b[0mvalues\u001b[0m\u001b[1;33m\u001b[0m\u001b[0m\n\u001b[0;32m   1867\u001b[0m \u001b[1;33m\u001b[0m\u001b[0m\n",
      "\u001b[1;31mKeyboardInterrupt\u001b[0m: "
     ]
    }
   ],
   "source": [
    "#########################################\n",
    "# Read in Signal File\n",
    "#########################################\n",
    "signalFileName = input('Signal Rate File: ')\n",
    "signalFile = signalPath(signalFileName)\n",
    "signalDataIn = pd.read_csv(signalFile, sep = ',')\n",
    "\n",
    "#########################################\n",
    "# Create backup of Signal File \n",
    "#########################################\n",
    "now = datetime.now()\n",
    "timeStamp = now.strftime('%b-%d_%H.%M')\n",
    "signalFileNameCopy = signalFileName[:-4] + '_' + timeStamp + '.csv'\n",
    "signalDataIn.to_csv(signalBackupPath(signalFileNameCopy), sep=',', index=False)\n",
    "print ('Backup Created')\n",
    "\n",
    "\n",
    "#########################################\n",
    "# Constants in (mA, epsilon) space:\n",
    "#########################################\n",
    "signalm_X = float(signalDataIn.at[0, 'mX[GeV]'])\n",
    "FileKappa0 = float(signalDataIn.at[0, 'Kappa0[GeV5]'])\n",
    "Alpha = 1./137\n",
    "LiveTime = DarkCapPy.Configure.Conversions.yr2s(10)\n",
    "\n",
    "\n",
    "#########################################\n",
    "# Sommerfeld Interpolation\n",
    "#########################################\n",
    "sommFileName = signalDataIn.at[0,'SommerfeldFile']\n",
    "sommDataIn = pd.read_csv(sommerfeldPath(sommFileName))\n",
    "mAData = sommDataIn['mA[GeV]']\n",
    "SommDataValues = sommDataIn['ThermAvgSommerfeld']\n",
    "SommInterp = interpolate.interp1d(mAData,SommDataValues)\n",
    "\n",
    "#########################################\n",
    "# Branching Ratio Interpolation\n",
    "#########################################\n",
    "branchFileName = signalDataIn.at[0,'BranchingRatioFile']\n",
    "branchDataIn = pd.read_csv(branchPath(branchFileName))\n",
    "\n",
    "mABranch = branchDataIn['mA[GeV]']\n",
    "branchingDataValues = branchDataIn['BR']\n",
    "\n",
    "branchRatioInterp = interpolate.interp1d(mABranch,branchingDataValues)\n",
    "\n",
    "\n",
    "#########################################\n",
    "# Begin iterating through the file\n",
    "#########################################\n",
    "loopRange = range(0,len(signalDataIn['Counter']))\n",
    "print ()\n",
    "print ('--------------------')\n",
    "finishedCounter = 0\n",
    "index = 0\n",
    "for index in loopRange:\n",
    "    testValue = signalDataIn.loc[index, 'IceCubeSignal']\n",
    "    \n",
    "    if (testValue == 'None'):\n",
    "        #########################################\n",
    "        # Initialize iteration-specific Quantities\n",
    "        #########################################\n",
    "        signalm_ATemp = float(signalDataIn.at[index, 'mA[GeV]'])\n",
    "        FileEpsilonTemp = float(signalDataIn.at[index, 'Epsilon'])\n",
    "        Alpha_X = DP.alphaTherm(signalm_X, signalm_ATemp)      \n",
    "        Sommerfeld = SommInterp(signalm_ATemp)\n",
    "        BranchingRatio = branchRatioInterp(signalm_ATemp)\n",
    "        \n",
    "        #########################################\n",
    "        # Parameter Spce Calculations\n",
    "        #########################################\n",
    "        Capture = DP.cCapQuick(signalm_X, signalm_ATemp, FileEpsilonTemp, Alpha_X, FileKappa0)\n",
    "        SigmaVTree = DP.sigmaVtree(signalm_X, signalm_ATemp, Alpha_X)\n",
    "        Annihilation = DP.cAnn(signalm_X, SigmaVTree, thermAvgSomm = Sommerfeld)\n",
    "        GammaAnn = DP.gammaAnn(Capture, Annihilation)\n",
    "        L = DP.decayLength(signalm_X, signalm_ATemp, FileEpsilonTemp, BranchingRatio)\n",
    "        EpsilonDecay = DP.epsilonDecay(L)\n",
    "        \n",
    "        IceCubeSignal = DP.iceCubeSignal(GammaAnn, EpsilonDecay, LiveTime)\n",
    "\n",
    "        #########################################\n",
    "        # Append Calculated Values to SignalFile.csv\n",
    "        #########################################\n",
    "        signalDataIn.at[index, 'Capture[s-1]']      = Capture\n",
    "        signalDataIn.at[index, 'Annihilation[s-1]'] = Annihilation\n",
    "        signalDataIn.at[index, 'GammaAnn[s-1]']     = GammaAnn\n",
    "        signalDataIn.at[index, 'IceCubeSignal']     = IceCubeSignal\n",
    "        \n",
    "        \n",
    "        #########################################\n",
    "        # Overwrite SignalFile.csv\n",
    "        #########################################\n",
    "        signalDataIn.to_csv(signalFile, sep=',',index=False) \n",
    "        finishedCounter += 1\n",
    "        \n",
    "        if (index % 20 == 0):\n",
    "            print ('Calculations for index: {0} recorded'.format(index))\n",
    "        \n",
    "    elif (testValue != 'None'):\n",
    "        finishedCounter += 1\n",
    "    \n",
    "    if (finishedCounter == len(signalDataIn['Counter'])):\n",
    "        print ('--------------------')\n",
    "        print ('All Calculations Complete')\n",
    "        break\n",
    "        \n",
    "print ('Complete')"
   ]
  },
  {
   "cell_type": "markdown",
   "metadata": {},
   "source": [
    "### Manual Overwrite"
   ]
  },
  {
   "cell_type": "markdown",
   "metadata": {},
   "source": [
    "This cell is a manual overwrite of the signalData.csv file.\n",
    "\n",
    "It is REQUIRED that you run this if you interrupt the calculation. Failure to do so could result in a loss of all your data."
   ]
  },
  {
   "cell_type": "code",
   "execution_count": 43,
   "metadata": {
    "ExecuteTime": {
     "end_time": "2018-08-03T16:21:39.031756Z",
     "start_time": "2018-08-03T16:21:36.266845Z"
    }
   },
   "outputs": [
    {
     "name": "stdout",
     "output_type": "stream",
     "text": [
      "Working Signal File: Signal/testSignal.csv\n",
      "Overwrite? (y/n): y\n",
      "Overwrite complete\n",
      "Complete\n"
     ]
    }
   ],
   "source": [
    "print ('Working Signal File: {0}'.format(signalFile))\n",
    "\n",
    "overwrite = input('Overwrite? (y/n): ')\n",
    "if ((overwrite == 'y') or (overwrite == 'Y')):\n",
    "    signalDataIn.to_csv(signalFile, sep=',',index=False) \n",
    "    print ('Overwrite complete')\n",
    "    \n",
    "else:\n",
    "    print ('Overwrite aborted')\n",
    "\n",
    "print ('Complete')"
   ]
  },
  {
   "cell_type": "markdown",
   "metadata": {},
   "source": [
    "## Plot Signal Events"
   ]
  },
  {
   "cell_type": "markdown",
   "metadata": {},
   "source": [
    "### Read in Signal File"
   ]
  },
  {
   "cell_type": "code",
   "execution_count": 44,
   "metadata": {
    "ExecuteTime": {
     "end_time": "2018-08-03T16:24:38.340110Z",
     "start_time": "2018-08-03T16:24:31.791829Z"
    }
   },
   "outputs": [
    {
     "name": "stdout",
     "output_type": "stream",
     "text": [
      "Signal Rate filename: 100GeVSignal.csv\n",
      "Complete\n"
     ]
    }
   ],
   "source": [
    "signalFile = input('Signal Rate filename: ')\n",
    "readFile = signalPath(signalFile)\n",
    "testRead = pd.read_csv(readFile) # This is here to ensure that the file exists\n",
    "\n",
    "print ('Complete')"
   ]
  },
  {
   "cell_type": "markdown",
   "metadata": {},
   "source": [
    "### Extract Plot Data"
   ]
  },
  {
   "cell_type": "markdown",
   "metadata": {},
   "source": [
    "We plot the Data under the column\n",
    "\n",
    "    mA[GeV], Epsilon, IceCubeSignal"
   ]
  },
  {
   "cell_type": "code",
   "execution_count": 45,
   "metadata": {
    "ExecuteTime": {
     "end_time": "2018-08-03T16:24:41.374711Z",
     "start_time": "2018-08-03T16:24:40.959782Z"
    }
   },
   "outputs": [
    {
     "name": "stdout",
     "output_type": "stream",
     "text": [
      "Complete\n"
     ]
    }
   ],
   "source": [
    "# rawData = pd.read_csv(photonSignalDataPath_Complete(GammaFile))\n",
    "rawData = pd.read_csv(readFile)\n",
    "Filem_X = float(rawData.loc[0,'mX[GeV]'])\n",
    "\n",
    "#Pull out min / max values on each axis\n",
    "xMin = min(rawData['mA[GeV]'])\n",
    "xMax = max(rawData['mA[GeV]'])\n",
    "yMin = min(rawData['Epsilon'])\n",
    "yMax = max(rawData['Epsilon'])\n",
    "\n",
    "\n",
    "#########################################\n",
    "# Define the dimension of the grid. \n",
    "# For an n x n grid, this will pull out the number \"n\"\n",
    "#########################################\n",
    "gridDim = int(rawData.loc[0,'Resolution'])\n",
    "\n",
    "\n",
    "#########################################\n",
    "# Create the n x n grid\n",
    "#########################################\n",
    "# Logarithmic Spacing\n",
    "xLogRange = np.logspace(np.log10(xMin), np.log10(xMax) , gridDim, base = 10)\n",
    "yLogRange = np.logspace(np.log10(yMin), np.log10(yMax), gridDim, base = 10)\n",
    "\n",
    "\n",
    "#########################################\n",
    "# Read in and reshape the Contour data\n",
    "#########################################\n",
    "# This reads in contour data as a single column,\n",
    "#     but we reshape it to a 2D, n x n array to fit the grid\n",
    "\n",
    "z = [rawData['IceCubeSignal']]\n",
    "SignalData = np.reshape(z, (len(xLogRange), len(yLogRange)))\n",
    "\n",
    "print ('Complete')"
   ]
  },
  {
   "cell_type": "markdown",
   "metadata": {},
   "source": [
    "### Plot the Signal Events"
   ]
  },
  {
   "cell_type": "code",
   "execution_count": 48,
   "metadata": {
    "ExecuteTime": {
     "end_time": "2018-08-03T16:33:42.025062Z",
     "start_time": "2018-08-03T16:33:40.338746Z"
    },
    "scrolled": false
   },
   "outputs": [
    {
     "name": "stderr",
     "output_type": "stream",
     "text": [
      "C:\\Users\\Adam Green\\Anaconda3\\lib\\site-packages\\ipykernel_launcher.py:19: RuntimeWarning: divide by zero encountered in log10\n"
     ]
    },
    {
     "name": "stdout",
     "output_type": "stream",
     "text": [
      "Complete\n"
     ]
    },
    {
     "data": {
      "image/png": "[encoded data removed]",
      "text/plain": [
       "<matplotlib.figure.Figure at 0x23ffe201748>"
      ]
     },
     "metadata": {},
     "output_type": "display_data"
    }
   ],
   "source": [
    "###############################\n",
    "# Set the correct units for m_X\n",
    "###############################\n",
    "m_XUnit = 'None'\n",
    "if (Filem_X < 1000):\n",
    "    m_XDisplay = Filem_X\n",
    "    m_XUnit = 'GeV'\n",
    "\n",
    "if (Filem_X >= 1000):\n",
    "    m_XDisplay = Filem_X * 10**-3\n",
    "    m_XUnit = 'TeV'\n",
    "    \n",
    "    \n",
    "###############################\n",
    "# Plotting\n",
    "###############################\n",
    "signalFig = plt.figure(figsize = (6,6))\n",
    "\n",
    "CP = plt.contour(np.log10(xLogRange), np.log10(yLogRange), \\\n",
    "                 np.log10(SignalData.transpose()),\\\n",
    "                 levels=[0,1,2,3],\\\n",
    "                )\n",
    "\n",
    "xLabelNums = [-2,-1,0,1]\n",
    "xLabelText = [r'$10^{-2}$',r'$10^{-1}$',r'$10^{0}$',r'$10^{1}$']\n",
    "\n",
    "yLabelNums = [-5,-6,-7,-8,-9,-10,-11]\n",
    "yLabelText = [r'$10^{-5}$', r'$10^{-6}$', r'$10^{-7}$', r'$10^{-8}$', \\\n",
    "              r'$10^{-9}$', r'$10^{-10}$', r'$10^{-11}$']\n",
    "\n",
    "\n",
    "plt.xticks(xLabelNums, xLabelText, fontsize = 12)\n",
    "plt.yticks(yLabelNums, yLabelText, fontsize = 12)\n",
    "\n",
    "plt.xlabel(r\"$m_{A'}$ $[GeV]$\", fontsize = 14)\n",
    "plt.ylabel(r'$\\varepsilon$', fontsize = 18)\n",
    "plt.suptitle('IceCube Events', fontsize = 16)\n",
    "plt.title(r'$m_X$ = {0} {1}'.format(m_XDisplay, m_XUnit), loc = 'right', fontsize = 13)\n",
    "\n",
    "labels = [r'1', r'$10$',r'$10^2$',r'$10^3$']\n",
    "for i in range(len(labels)):\n",
    "    CP.collections[i].set_label(labels[i])\n",
    "\n",
    "plt.legend(loc='upper right', fontsize = 13)\n",
    "plt.grid()\n",
    "print ('Complete')"
   ]
  },
  {
   "cell_type": "markdown",
   "metadata": {},
   "source": [
    "#### Save Figure"
   ]
  },
  {
   "cell_type": "code",
   "execution_count": 51,
   "metadata": {
    "ExecuteTime": {
     "end_time": "2018-08-03T16:34:55.546844Z",
     "start_time": "2018-08-03T16:34:47.306031Z"
    },
    "scrolled": true
   },
   "outputs": [
    {
     "name": "stdout",
     "output_type": "stream",
     "text": [
      "Filename: testSignal2.png\n",
      "Complete\n"
     ]
    }
   ],
   "source": [
    "figName = input('Filename: ')\n",
    "\n",
    "signalFig.savefig((figName), dpi = 700,\n",
    "             bbox_inches = 'tight', # If this isn't here, it partially cuts off the axis labels\n",
    "            )\n",
    "print ('Complete')"
   ]
  },
  {
   "cell_type": "code",
   "execution_count": null,
   "metadata": {
    "collapsed": true
   },
   "outputs": [],
   "source": []
  }
 ],
 "metadata": {
  "kernelspec": {
   "display_name": "Python 3",
   "language": "python",
   "name": "python3"
  },
  "language_info": {
   "codemirror_mode": {
    "name": "ipython",
    "version": 3
   },
   "file_extension": ".py",
   "mimetype": "text/x-python",
   "name": "python",
   "nbconvert_exporter": "python",
   "pygments_lexer": "ipython3",
   "version": "3.6.2"
  },
  "latex_envs": {
   "LaTeX_envs_menu_present": true,
   "autocomplete": false,
   "bibliofile": "biblio.bib",
   "cite_by": "apalike",
   "current_citInitial": 1,
   "eqLabelWithNumbers": true,
   "eqNumInitial": 1,
   "hotkeys": {
    "equation": "Ctrl-E",
    "itemize": "Ctrl-I"
   },
   "labels_anchors": false,
   "latex_user_defs": false,
   "report_style_numbering": false,
   "user_envs_cfg": false
  }
 },
 "nbformat": 4,
 "nbformat_minor": 2
}
